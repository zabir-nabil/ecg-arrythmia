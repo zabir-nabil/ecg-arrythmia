{
 "cells": [
  {
   "cell_type": "markdown",
   "metadata": {},
   "source": [
    "Classification of c-VAE augmented biosignals with LSTM for anomaly detection"
   ]
  },
  {
   "cell_type": "code",
   "execution_count": 1,
   "metadata": {},
   "outputs": [
    {
     "name": "stderr",
     "output_type": "stream",
     "text": [
      "C:\\Anaconda3\\lib\\site-packages\\h5py\\__init__.py:34: FutureWarning: Conversion of the second argument of issubdtype from `float` to `np.floating` is deprecated. In future, it will be treated as `np.float64 == np.dtype(float).type`.\n",
      "  from ._conv import register_converters as _register_converters\n"
     ]
    }
   ],
   "source": [
    "# imports\n",
    "\n",
    "from scipy import io, signal\n",
    "import matplotlib.pyplot as plt\n",
    "import dtcwt\n",
    "import numpy as np\n",
    "import itertools\n",
    "import pywt\n",
    "from pywt import wavedec"
   ]
  },
  {
   "cell_type": "code",
   "execution_count": 2,
   "metadata": {
    "collapsed": true
   },
   "outputs": [],
   "source": [
    "def get_ecg(path):\n",
    "    ta = io.loadmat(path)\n",
    "    ta = ta['val']\n",
    "    ta = np.array(ta)\n",
    "    ta = np.reshape(ta, (ta.shape[1],))\n",
    "    return ta\n",
    "\n",
    "\n",
    "\n",
    "def plot_ecg(tit, path = \"\", x = None):\n",
    "    if x == None:\n",
    "        ta = get_ecg(path)\n",
    "    else:\n",
    "        ta = x\n",
    "\n",
    "    plt.plot(ta)\n",
    "    plt.title(tit)\n",
    "    plt.show()"
   ]
  },
  {
   "cell_type": "code",
   "execution_count": 3,
   "metadata": {
    "collapsed": true
   },
   "outputs": [],
   "source": [
    "def get_A(x):\n",
    "    coeffs = wavedec(x, 'db4', level=2)\n",
    "    cA2, cD2, cD1 = coeffs\n",
    "    return cA2"
   ]
  },
  {
   "cell_type": "code",
   "execution_count": 88,
   "metadata": {
    "collapsed": true
   },
   "outputs": [],
   "source": [
    "# data read\n",
    "import glob\n",
    "\n",
    "# normal\n",
    "nsr_x = []\n",
    "pr_x = []\n",
    "\n",
    "# arrythmia\n",
    "apb_x = []\n",
    "afl_x = []\n",
    "afib_x = []\n",
    "svta_x = []\n",
    "wpw_x = []\n",
    "pvc_x = []\n",
    "bigem_x = []\n",
    "trigem_x = []\n",
    "vt_x = []\n",
    "ivr_x = []\n",
    "vfl_x = []\n",
    "fus_x = []\n",
    "lbbb_x = []\n",
    "rbbb_x = []\n",
    "sdhb_x = []\n",
    "\n",
    "# all signals\n",
    "\n",
    "x_all = []\n",
    "\n",
    "# normal\n",
    "for f in glob.glob('MLII/1 */*.mat'):\n",
    "    nsr_x.append(get_ecg(f))\n",
    "    x_all.append(get_A(get_ecg(f)))\n",
    "\n",
    "for f in glob.glob('MLII/17 */*.mat'):\n",
    "    pr_x.append(get_ecg(f))\n",
    "    x_all.append(get_A(get_ecg(f)))\n",
    "    \n",
    "    \n",
    "# arrythmia    \n",
    "for f in glob.glob('MLII/2 */*.mat'):\n",
    "    apb_x.append(get_ecg(f))\n",
    "    x_all.append(get_A(get_ecg(f)))\n",
    "    \n",
    "for f in glob.glob('MLII/3 */*.mat'):\n",
    "    afl_x.append(get_ecg(f))\n",
    "    x_all.append(get_A(get_ecg(f)))\n",
    "    \n",
    "for f in glob.glob('MLII/4 */*.mat'):\n",
    "    afib_x.append(get_ecg(f))\n",
    "    x_all.append(get_A(get_ecg(f)))\n",
    "    \n",
    "for f in glob.glob('MLII/5 */*.mat'):\n",
    "    svta_x.append(get_ecg(f))\n",
    "    x_all.append(get_A(get_ecg(f)))\n",
    "    \n",
    "for f in glob.glob('MLII/6 */*.mat'):\n",
    "    wpw_x.append(get_ecg(f))\n",
    "    x_all.append(get_A(get_ecg(f)))\n",
    "    \n",
    "for f in glob.glob('MLII/7 */*.mat'):\n",
    "    pvc_x.append(get_ecg(f))\n",
    "    x_all.append(get_A(get_ecg(f)))\n",
    "    \n",
    "for f in glob.glob('MLII/8 */*.mat'):\n",
    "    bigem_x.append(get_ecg(f))\n",
    "    x_all.append(get_A(get_ecg(f)))\n",
    "    \n",
    "for f in glob.glob('MLII/9 */*.mat'):\n",
    "    trigem_x.append(get_ecg(f))\n",
    "    x_all.append(get_A(get_ecg(f)))\n",
    "    \n",
    "for f in glob.glob('MLII/10 */*.mat'):\n",
    "    vt_x.append(get_ecg(f))\n",
    "    x_all.append(get_A(get_ecg(f)))\n",
    "    \n",
    "for f in glob.glob('MLII/11 */*.mat'):\n",
    "    ivr_x.append(get_ecg(f))\n",
    "    x_all.append(get_A(get_ecg(f)))\n",
    "    \n",
    "for f in glob.glob('MLII/12 */*.mat'):\n",
    "    vfl_x.append(get_ecg(f))\n",
    "    x_all.append(get_A(get_ecg(f)))\n",
    "    \n",
    "for f in glob.glob('MLII/13 */*.mat'):\n",
    "    fus_x.append(get_ecg(f))\n",
    "    x_all.append(get_A(get_ecg(f)))\n",
    "    \n",
    "for f in glob.glob('MLII/14 */*.mat'):\n",
    "    lbbb_x.append(get_ecg(f))\n",
    "    x_all.append(get_A(get_ecg(f)))\n",
    "    \n",
    "for f in glob.glob('MLII/15 */*.mat'):\n",
    "    rbbb_x.append(get_ecg(f))\n",
    "    x_all.append(get_A(get_ecg(f)))\n",
    "    \n",
    "for f in glob.glob('MLII/16 */*.mat'):\n",
    "    sdhb_x.append(get_ecg(f))\n",
    "    x_all.append(get_A(get_ecg(f)))"
   ]
  },
  {
   "cell_type": "code",
   "execution_count": 11,
   "metadata": {},
   "outputs": [
    {
     "name": "stdout",
     "output_type": "stream",
     "text": [
      "---------------------\n",
      "normal\n",
      "---------------------\n",
      "283\n",
      "45\n",
      "---------------------\n",
      "arrythmia\n",
      "---------------------\n",
      "66\n",
      "20\n",
      "135\n",
      "13\n",
      "21\n",
      "133\n",
      "55\n",
      "13\n",
      "10\n",
      "10\n",
      "10\n",
      "11\n",
      "103\n",
      "62\n",
      "10\n"
     ]
    }
   ],
   "source": [
    "print('---------------------')\n",
    "print('normal')\n",
    "print('---------------------')\n",
    "print(len(nsr_x))\n",
    "print(len(pr_x))\n",
    "print('---------------------')\n",
    "print('arrythmia')\n",
    "print('---------------------')\n",
    "print(len(apb_x))\n",
    "print(len(afl_x))\n",
    "print(len(afib_x))\n",
    "print(len(svta_x))\n",
    "print(len(wpw_x))\n",
    "print(len(pvc_x))\n",
    "print(len(bigem_x))\n",
    "print(len(trigem_x))\n",
    "print(len(vt_x))\n",
    "print(len(ivr_x))\n",
    "print(len(vfl_x))\n",
    "print(len(fus_x))\n",
    "print(len(lbbb_x))\n",
    "print(len(rbbb_x))\n",
    "print(len(sdhb_x))"
   ]
  },
  {
   "cell_type": "code",
   "execution_count": 12,
   "metadata": {},
   "outputs": [
    {
     "name": "stderr",
     "output_type": "stream",
     "text": [
      "C:\\Anaconda3\\lib\\site-packages\\statsmodels\\compat\\pandas.py:56: FutureWarning: The pandas.core.datetools module is deprecated and will be removed in a future version. Please use the pandas.tseries module instead.\n",
      "  from pandas.core import datetools\n"
     ]
    }
   ],
   "source": [
    "import pandas as pd\n",
    "from numpy.linalg import LinAlgError\n",
    "from statsmodels.tsa.stattools import adfuller\n",
    "#1\n",
    "def AE(x): # Absolute Energy\n",
    "    x = np.asarray(x)\n",
    "    return sum(x * x)\n",
    "\n",
    "#2\n",
    "def SM2(y):\n",
    "    #t1 = time.time()\n",
    "    f, Pxx_den = signal.welch(y)\n",
    "    sm2 = 0\n",
    "    n = len(f)\n",
    "    for i in range(0,n):\n",
    "        sm2 += Pxx_den[i]*(f[i]**2)\n",
    "    \n",
    "    #t2 = time.time()\n",
    "    #print('time: ', t2-t2)\n",
    "    return sm2\n",
    "\n",
    "\n",
    "#3\n",
    "def LOG(y):\n",
    "    n = len(y)\n",
    "    return np.exp(np.sum(np.log(np.abs(y)))/n)\n",
    "\n",
    "#4\n",
    "def WL(x): # WL in primary manuscript\n",
    "    return np.sum(abs(np.diff(x)))\n",
    "\n",
    "#5\n",
    "def ADF(x): # teststat, pvalue, usedlag\n",
    "    # augmented dickey fuller\n",
    "    # returns a tuple\n",
    "    res = None\n",
    "    try:\n",
    "        res = adfuller(x)\n",
    "    except LinAlgError:\n",
    "        res = np.NaN, np.NaN, np.NaN\n",
    "    except ValueError:  # occurs if sample size is too small\n",
    "        #print('Length Error')\n",
    "        res = np.NaN, np.NaN, np.NaN\n",
    "\n",
    "    return res[0], res[1], res[2]\n",
    "\n",
    "\n",
    "#6\n",
    "def AC(x, lag=5): # autocorrelation\n",
    "\n",
    "    \"\"\"\n",
    "     [1] https://en.wikipedia.org/wiki/Autocorrelation#Estimation\n",
    "\n",
    "    \"\"\"\n",
    "    # This is important: If a series is passed, the product below is calculated\n",
    "    # based on the index, which corresponds to squaring the series.\n",
    "    if type(x) is pd.Series:\n",
    "        x = x.values\n",
    "    if len(x) < lag:\n",
    "        return np.nan\n",
    "    # Slice the relevant subseries based on the lag\n",
    "    y1 = x[:(len(x)-lag)]\n",
    "    y2 = x[lag:]\n",
    "    # Subtract the mean of the whole series x\n",
    "    x_mean = np.mean(x)\n",
    "    # The result is sometimes referred to as \"covariation\"\n",
    "    sum_product = np.sum((y1-x_mean)*(y2-x_mean))\n",
    "    # Return the normalized unbiased covariance\n",
    "    return sum_product / ((len(x) - lag) * np.var(x))\n",
    "\n",
    "#7\n",
    "def BE(x, max_bins=30): # binned entropy\n",
    "    hist, bin_edges = np.histogram(x, bins=max_bins)\n",
    "    probs = hist / len(x)\n",
    "    return - np.sum(p * np.math.log(p) for p in probs if p != 0)\n",
    "\n",
    "#8\n",
    "def C3(x, lag = 5): # c3 feature\n",
    "    n = len(x)\n",
    "    x = np.asarray(x)\n",
    "    if 2 * lag >= n:\n",
    "        return 0\n",
    "    else:\n",
    "        return np.mean((np.roll(x, 2 * -lag) * np.roll(x, -lag) * x)[0:(n - 2 * lag)])\n",
    "    \n",
    "    \n",
    "\n",
    "\n",
    "\n",
    "\n",
    "\n",
    "#12\n",
    "def AAC(x): #AAC in primary manuscript\n",
    "    return np.mean(abs(np.diff(x)))\n",
    "\n",
    "#13\n",
    "def MSDC(x): # mean second derivative central\n",
    "    diff = (np.roll(x, 1) - 2 * np.array(x) + np.roll(x, -1)) / 2.0\n",
    "    return np.mean(diff[1:-1])\n",
    "\n",
    "#14\n",
    "def ZC(x, m = 0): # zero/mean crossing\n",
    "    # m = np.mean(x)\n",
    "    x = np.asarray(x)\n",
    "    x = x[x != m]\n",
    "    return sum(np.abs(np.diff(np.sign(x - m))))/2\n",
    "\n",
    "\n",
    "#15\n",
    "def SE(x): # sample entropy\n",
    "    \"\"\"\n",
    "    [1] http://en.wikipedia.org/wiki/Sample_Entropy\n",
    "    [2] https://www.ncbi.nlm.nih.gov/pubmed/10843903?dopt=Abstract\n",
    "    \"\"\"\n",
    "    x = np.array(x)\n",
    "\n",
    "    sample_length = 1 # number of sequential points of the time series\n",
    "    tolerance = 0.2 * np.std(x) # 0.2 is a common value for r - why?\n",
    "\n",
    "    n = len(x)\n",
    "    prev = np.zeros(n)\n",
    "    curr = np.zeros(n)\n",
    "    A = np.zeros((1, 1))  # number of matches for m = [1,...,template_length - 1]\n",
    "    B = np.zeros((1, 1))  # number of matches for m = [1,...,template_length]\n",
    "\n",
    "    for i in range(n - 1):\n",
    "        nj = n - i - 1\n",
    "        ts1 = x[i]\n",
    "        for jj in range(nj):\n",
    "            j = jj + i + 1\n",
    "            if abs(x[j] - ts1) < tolerance:  # distance between two vectors\n",
    "                curr[jj] = prev[jj] + 1\n",
    "                temp_ts_length = min(sample_length, curr[jj])\n",
    "                for m in range(int(temp_ts_length)):\n",
    "                    A[m] += 1\n",
    "                    if j < n - 1:\n",
    "                        B[m] += 1\n",
    "            else:\n",
    "                curr[jj] = 0\n",
    "        for j in range(nj):\n",
    "            prev[j] = curr[j]\n",
    "\n",
    "    N = n * (n - 1) / 2\n",
    "    B = np.vstack(([N], B[0]))\n",
    "\n",
    "    # sample entropy = -1 * (log (A/B))\n",
    "    similarity_ratio = A / B\n",
    "    se = -1 * np.log(similarity_ratio)\n",
    "    se = np.reshape(se, -1)\n",
    "    return se[0]\n",
    "\n",
    "#16\n",
    "def TRAS(x, lag=5):\n",
    "    # time reversal asymmetry statistic\n",
    "    \"\"\"\n",
    "    |  [1] Fulcher, B.D., Jones, N.S. (2014).\n",
    "    |  Highly comparative feature-based time-series classification.\n",
    "    |  Knowledge and Data Engineering, IEEE Transactions on 26, 3026–3037.\n",
    "    \"\"\"\n",
    "    n = len(x)\n",
    "    x = np.asarray(x)\n",
    "    if 2 * lag >= n:\n",
    "        return 0\n",
    "    else:\n",
    "        return np.mean((np.roll(x, 2 * -lag) * np.roll(x, 2 * -lag) * np.roll(x, -lag) -\n",
    "                        np.roll(x, -lag) * x * x)[0:(n - 2 * lag)])\n",
    "    \n",
    "    \n",
    "#17    \n",
    "def VAR(x): # variance \n",
    "    return np.var(x)"
   ]
  },
  {
   "cell_type": "code",
   "execution_count": 45,
   "metadata": {
    "collapsed": true
   },
   "outputs": [],
   "source": [
    "import time\n",
    "fx = []\n",
    "y_mc = [] # multi-class classification labels"
   ]
  },
  {
   "cell_type": "code",
   "execution_count": 46,
   "metadata": {},
   "outputs": [
    {
     "name": "stdout",
     "output_type": "stream",
     "text": [
      ">>>>>>>>>>>>>>>>>>>>>>>>>>>>>>>>>>>>>>>>>>>>>>>>>>>>>>>>>>>>>>>>>>>>>>>>>>>>>>>>>>>>>>>>>>>>>>>>>>>>>>>>>>>>>>>>>>>>>>>>>>>>>>>>>>>>>>>>>>>>>>>>>>>>>>>>>>>>>>>>>>>>>>>>>>>>>>>>>>>>>>>>>>>>>>>>>>>>>>>>>>>>>>>>>>>>>>>>>>>>>>>>>>>>>>>>>>>>>>>>>>>>>>>>>>>>>>>>>>>>>>>>>>>>>>>>>>>>>>>>>>>333.52160358428955\n"
     ]
    }
   ],
   "source": [
    "t1 = time.time()\n",
    "for i in range(len(nsr_x)):\n",
    "    cf = []\n",
    "    cf.append(AE(get_A(nsr_x[i])))\n",
    "    cf.append(SM2(get_A(nsr_x[i])))\n",
    "    cf.append((LOG(get_A(nsr_x[i]))))\n",
    "    cf.append((WL(get_A(nsr_x[i]))))\n",
    "    cf.append((AC(get_A(nsr_x[i]))))\n",
    "    cf.append(((BE(get_A(nsr_x[i])))))\n",
    "    cf.append((SE(get_A(nsr_x[i]))))\n",
    "    cf.append((TRAS(get_A(nsr_x[i]))))\n",
    "    cf.append((VAR(get_A(nsr_x[i]))))\n",
    "    cf.append((AAC(get_A(nsr_x[i]))))\n",
    "    fx.append(cf)\n",
    "    y_mc.append(0)\n",
    "    print('>', end = '')\n",
    "    \n",
    "t2 = time.time()\n",
    "print(t2-t1)"
   ]
  },
  {
   "cell_type": "code",
   "execution_count": 47,
   "metadata": {},
   "outputs": [
    {
     "name": "stdout",
     "output_type": "stream",
     "text": [
      ">>>>>>>>>>>>>>>>>>>>>>>>>>>>>>>>>>>>>>>>>>>>>42.47834134101868\n"
     ]
    }
   ],
   "source": [
    "t1 = time.time()\n",
    "for i in range(len(pr_x)):\n",
    "    cf = []\n",
    "    cf.append(AE(get_A(pr_x[i])))\n",
    "    cf.append(SM2(get_A(pr_x[i])))\n",
    "    cf.append((LOG(get_A(pr_x[i]))))\n",
    "    cf.append((WL(get_A(pr_x[i]))))\n",
    "    cf.append((AC(get_A(pr_x[i]))))\n",
    "    cf.append(((BE(get_A(pr_x[i])))))\n",
    "    cf.append((SE(get_A(pr_x[i]))))\n",
    "    cf.append((TRAS(get_A(pr_x[i]))))\n",
    "    cf.append((VAR(get_A(pr_x[i]))))\n",
    "    cf.append((AAC(get_A(pr_x[i]))))\n",
    "    fx.append(cf)\n",
    "    y_mc.append(1)\n",
    "    print('>', end = '')\n",
    "    \n",
    "t2 = time.time()\n",
    "print(t2-t1)"
   ]
  },
  {
   "cell_type": "code",
   "execution_count": 48,
   "metadata": {},
   "outputs": [
    {
     "name": "stdout",
     "output_type": "stream",
     "text": [
      ">>>>>>>>>>>>>>>>>>>>>>>>>>>>>>>>>>>>>>>>>>>>>>>>>>>>>>>>>>>>>>>>>>77.16552758216858\n"
     ]
    }
   ],
   "source": [
    "t1 = time.time()\n",
    "c_x = apb_x\n",
    "for i in range(len(c_x)):\n",
    "    cf = []\n",
    "    cf.append(AE(get_A(c_x[i])))\n",
    "    cf.append(SM2(get_A(c_x[i])))\n",
    "    cf.append((LOG(get_A(c_x[i]))))\n",
    "    cf.append((WL(get_A(c_x[i]))))\n",
    "    cf.append((AC(get_A(c_x[i]))))\n",
    "    cf.append(((BE(get_A(c_x[i])))))\n",
    "    cf.append((SE(get_A(c_x[i]))))\n",
    "    cf.append((TRAS(get_A(c_x[i]))))\n",
    "    cf.append((VAR(get_A(c_x[i]))))\n",
    "    cf.append((AAC(get_A(c_x[i]))))\n",
    "    fx.append(cf)\n",
    "    y_mc.append(2)\n",
    "    print('>', end = '')\n",
    "    \n",
    "t2 = time.time()\n",
    "print(t2-t1)"
   ]
  },
  {
   "cell_type": "code",
   "execution_count": 54,
   "metadata": {},
   "outputs": [
    {
     "name": "stdout",
     "output_type": "stream",
     "text": [
      "394\n",
      "394\n"
     ]
    }
   ],
   "source": [
    "print(len(fx))\n",
    "print(len(y_mc))"
   ]
  },
  {
   "cell_type": "code",
   "execution_count": 55,
   "metadata": {},
   "outputs": [
    {
     "name": "stdout",
     "output_type": "stream",
     "text": [
      ">>>>>>>>>>>>>>>>>>>>20.33942723274231\n"
     ]
    }
   ],
   "source": [
    "t1 = time.time()\n",
    "c_x = afl_x\n",
    "for i in range(len(c_x)):\n",
    "    cf = []\n",
    "    cf.append(AE(get_A(c_x[i])))\n",
    "    cf.append(SM2(get_A(c_x[i])))\n",
    "    cf.append((LOG(get_A(c_x[i]))))\n",
    "    cf.append((WL(get_A(c_x[i]))))\n",
    "    cf.append((AC(get_A(c_x[i]))))\n",
    "    cf.append(((BE(get_A(c_x[i])))))\n",
    "    cf.append((SE(get_A(c_x[i]))))\n",
    "    cf.append((TRAS(get_A(c_x[i]))))\n",
    "    cf.append((VAR(get_A(c_x[i]))))\n",
    "    cf.append((AAC(get_A(c_x[i]))))\n",
    "    fx.append(cf)\n",
    "    y_mc.append(3)\n",
    "    print('>', end = '')\n",
    "    \n",
    "t2 = time.time()\n",
    "print(t2-t1)"
   ]
  },
  {
   "cell_type": "code",
   "execution_count": 56,
   "metadata": {},
   "outputs": [
    {
     "name": "stdout",
     "output_type": "stream",
     "text": [
      ">>>>>>>>>>>>>>>>>>>>>>>>>>>>>>>>>>>>>>>>>>>>>>>>>>>>>>>>>>>>>>>>>>>>>>>>>>>>>>>>>>>>>>>>>>>>>>>>>>>>>>>>>>>>>>>>>>>>>>>>>>>>>>>>>>>>>>>196.07988572120667\n"
     ]
    }
   ],
   "source": [
    "t1 = time.time()\n",
    "c_x = afib_x\n",
    "for i in range(len(c_x)):\n",
    "    cf = []\n",
    "    cf.append(AE(get_A(c_x[i])))\n",
    "    cf.append(SM2(get_A(c_x[i])))\n",
    "    cf.append((LOG(get_A(c_x[i]))))\n",
    "    cf.append((WL(get_A(c_x[i]))))\n",
    "    cf.append((AC(get_A(c_x[i]))))\n",
    "    cf.append(((BE(get_A(c_x[i])))))\n",
    "    cf.append((SE(get_A(c_x[i]))))\n",
    "    cf.append((TRAS(get_A(c_x[i]))))\n",
    "    cf.append((VAR(get_A(c_x[i]))))\n",
    "    cf.append((AAC(get_A(c_x[i]))))\n",
    "    fx.append(cf)\n",
    "    y_mc.append(4)\n",
    "    print('>', end = '')\n",
    "    \n",
    "t2 = time.time()\n",
    "print(t2-t1)"
   ]
  },
  {
   "cell_type": "code",
   "execution_count": 57,
   "metadata": {},
   "outputs": [
    {
     "name": "stdout",
     "output_type": "stream",
     "text": [
      ">>>>>>>>>>>>>14.326268434524536\n"
     ]
    }
   ],
   "source": [
    "t1 = time.time()\n",
    "c_x = svta_x\n",
    "for i in range(len(c_x)):\n",
    "    cf = []\n",
    "    cf.append(AE(get_A(c_x[i])))\n",
    "    cf.append(SM2(get_A(c_x[i])))\n",
    "    cf.append((LOG(get_A(c_x[i]))))\n",
    "    cf.append((WL(get_A(c_x[i]))))\n",
    "    cf.append((AC(get_A(c_x[i]))))\n",
    "    cf.append(((BE(get_A(c_x[i])))))\n",
    "    cf.append((SE(get_A(c_x[i]))))\n",
    "    cf.append((TRAS(get_A(c_x[i]))))\n",
    "    cf.append((VAR(get_A(c_x[i]))))\n",
    "    cf.append((AAC(get_A(c_x[i]))))\n",
    "    fx.append(cf)\n",
    "    y_mc.append(5)\n",
    "    print('>', end = '')\n",
    "    \n",
    "t2 = time.time()\n",
    "print(t2-t1)"
   ]
  },
  {
   "cell_type": "code",
   "execution_count": 58,
   "metadata": {},
   "outputs": [
    {
     "name": "stdout",
     "output_type": "stream",
     "text": [
      ">>>>>>>>>>>>>>>>>>>>>31.01357865333557\n"
     ]
    }
   ],
   "source": [
    "t1 = time.time()\n",
    "c_x = wpw_x\n",
    "for i in range(len(c_x)):\n",
    "    cf = []\n",
    "    cf.append(AE(get_A(c_x[i])))\n",
    "    cf.append(SM2(get_A(c_x[i])))\n",
    "    cf.append((LOG(get_A(c_x[i]))))\n",
    "    cf.append((WL(get_A(c_x[i]))))\n",
    "    cf.append((AC(get_A(c_x[i]))))\n",
    "    cf.append(((BE(get_A(c_x[i])))))\n",
    "    cf.append((SE(get_A(c_x[i]))))\n",
    "    cf.append((TRAS(get_A(c_x[i]))))\n",
    "    cf.append((VAR(get_A(c_x[i]))))\n",
    "    cf.append((AAC(get_A(c_x[i]))))\n",
    "    fx.append(cf)\n",
    "    y_mc.append(6)\n",
    "    print('>', end = '')\n",
    "    \n",
    "t2 = time.time()\n",
    "print(t2-t1)"
   ]
  },
  {
   "cell_type": "code",
   "execution_count": 59,
   "metadata": {},
   "outputs": [
    {
     "name": "stdout",
     "output_type": "stream",
     "text": [
      ">>>>>>>>>>>>>>>>>>>>>>>>>>>>>>>>>>>>>>>>>>>>>>>>>>>>>>>>>>>>>>>>>>>>>>>>>>>>>>>>>>>>>>>>>>>>>>>>>>>>>>>>>>>>>>>>>>>>>>>>>>>>>>>>>>>>>164.0427143573761\n"
     ]
    }
   ],
   "source": [
    "t1 = time.time()\n",
    "c_x = pvc_x\n",
    "for i in range(len(c_x)):\n",
    "    cf = []\n",
    "    cf.append(AE(get_A(c_x[i])))\n",
    "    cf.append(SM2(get_A(c_x[i])))\n",
    "    cf.append((LOG(get_A(c_x[i]))))\n",
    "    cf.append((WL(get_A(c_x[i]))))\n",
    "    cf.append((AC(get_A(c_x[i]))))\n",
    "    cf.append(((BE(get_A(c_x[i])))))\n",
    "    cf.append((SE(get_A(c_x[i]))))\n",
    "    cf.append((TRAS(get_A(c_x[i]))))\n",
    "    cf.append((VAR(get_A(c_x[i]))))\n",
    "    cf.append((AAC(get_A(c_x[i]))))\n",
    "    fx.append(cf)\n",
    "    y_mc.append(7)\n",
    "    print('>', end = '')\n",
    "    \n",
    "t2 = time.time()\n",
    "print(t2-t1)"
   ]
  },
  {
   "cell_type": "code",
   "execution_count": 60,
   "metadata": {},
   "outputs": [
    {
     "name": "stdout",
     "output_type": "stream",
     "text": [
      ">>>>>>>>>>>>>>>>>>>>>>>>>>>>>>>>>>>>>>>>>>>>>>>>>>>>>>>59.43897318840027\n"
     ]
    }
   ],
   "source": [
    "t1 = time.time()\n",
    "c_x = bigem_x\n",
    "for i in range(len(c_x)):\n",
    "    cf = []\n",
    "    cf.append(AE(get_A(c_x[i])))\n",
    "    cf.append(SM2(get_A(c_x[i])))\n",
    "    cf.append((LOG(get_A(c_x[i]))))\n",
    "    cf.append((WL(get_A(c_x[i]))))\n",
    "    cf.append((AC(get_A(c_x[i]))))\n",
    "    cf.append(((BE(get_A(c_x[i])))))\n",
    "    cf.append((SE(get_A(c_x[i]))))\n",
    "    cf.append((TRAS(get_A(c_x[i]))))\n",
    "    cf.append((VAR(get_A(c_x[i]))))\n",
    "    cf.append((AAC(get_A(c_x[i]))))\n",
    "    fx.append(cf)\n",
    "    y_mc.append(8)\n",
    "    print('>', end = '')\n",
    "    \n",
    "t2 = time.time()\n",
    "print(t2-t1)"
   ]
  },
  {
   "cell_type": "code",
   "execution_count": 61,
   "metadata": {},
   "outputs": [
    {
     "name": "stdout",
     "output_type": "stream",
     "text": [
      ">>>>>>>>>>>>>17.760679006576538\n"
     ]
    }
   ],
   "source": [
    "t1 = time.time()\n",
    "c_x = trigem_x\n",
    "for i in range(len(c_x)):\n",
    "    cf = []\n",
    "    cf.append(AE(get_A(c_x[i])))\n",
    "    cf.append(SM2(get_A(c_x[i])))\n",
    "    cf.append((LOG(get_A(c_x[i]))))\n",
    "    cf.append((WL(get_A(c_x[i]))))\n",
    "    cf.append((AC(get_A(c_x[i]))))\n",
    "    cf.append(((BE(get_A(c_x[i])))))\n",
    "    cf.append((SE(get_A(c_x[i]))))\n",
    "    cf.append((TRAS(get_A(c_x[i]))))\n",
    "    cf.append((VAR(get_A(c_x[i]))))\n",
    "    cf.append((AAC(get_A(c_x[i]))))\n",
    "    fx.append(cf)\n",
    "    y_mc.append(9)\n",
    "    print('>', end = '')\n",
    "    \n",
    "t2 = time.time()\n",
    "print(t2-t1)"
   ]
  },
  {
   "cell_type": "code",
   "execution_count": 62,
   "metadata": {},
   "outputs": [
    {
     "name": "stdout",
     "output_type": "stream",
     "text": [
      ">>>>>>>>>>8.6002197265625\n"
     ]
    }
   ],
   "source": [
    "t1 = time.time()\n",
    "c_x = vt_x\n",
    "for i in range(len(c_x)):\n",
    "    cf = []\n",
    "    cf.append(AE(get_A(c_x[i])))\n",
    "    cf.append(SM2(get_A(c_x[i])))\n",
    "    cf.append((LOG(get_A(c_x[i]))))\n",
    "    cf.append((WL(get_A(c_x[i]))))\n",
    "    cf.append((AC(get_A(c_x[i]))))\n",
    "    cf.append(((BE(get_A(c_x[i])))))\n",
    "    cf.append((SE(get_A(c_x[i]))))\n",
    "    cf.append((TRAS(get_A(c_x[i]))))\n",
    "    cf.append((VAR(get_A(c_x[i]))))\n",
    "    cf.append((AAC(get_A(c_x[i]))))\n",
    "    fx.append(cf)\n",
    "    y_mc.append(10)\n",
    "    print('>', end = '')\n",
    "    \n",
    "t2 = time.time()\n",
    "print(t2-t1)"
   ]
  },
  {
   "cell_type": "code",
   "execution_count": 63,
   "metadata": {},
   "outputs": [
    {
     "name": "stdout",
     "output_type": "stream",
     "text": [
      ">>>>>>>>>>11.39315152168274\n"
     ]
    }
   ],
   "source": [
    "t1 = time.time()\n",
    "c_x = ivr_x\n",
    "for i in range(len(c_x)):\n",
    "    cf = []\n",
    "    cf.append(AE(get_A(c_x[i])))\n",
    "    cf.append(SM2(get_A(c_x[i])))\n",
    "    cf.append((LOG(get_A(c_x[i]))))\n",
    "    cf.append((WL(get_A(c_x[i]))))\n",
    "    cf.append((AC(get_A(c_x[i]))))\n",
    "    cf.append(((BE(get_A(c_x[i])))))\n",
    "    cf.append((SE(get_A(c_x[i]))))\n",
    "    cf.append((TRAS(get_A(c_x[i]))))\n",
    "    cf.append((VAR(get_A(c_x[i]))))\n",
    "    cf.append((AAC(get_A(c_x[i]))))\n",
    "    fx.append(cf)\n",
    "    y_mc.append(11)\n",
    "    print('>', end = '')\n",
    "    \n",
    "t2 = time.time()\n",
    "print(t2-t1)"
   ]
  },
  {
   "cell_type": "code",
   "execution_count": 64,
   "metadata": {},
   "outputs": [
    {
     "name": "stdout",
     "output_type": "stream",
     "text": [
      ">>>>>>>>>>7.6684558391571045\n"
     ]
    }
   ],
   "source": [
    "t1 = time.time()\n",
    "c_x = vfl_x\n",
    "for i in range(len(c_x)):\n",
    "    cf = []\n",
    "    cf.append(AE(get_A(c_x[i])))\n",
    "    cf.append(SM2(get_A(c_x[i])))\n",
    "    cf.append((LOG(get_A(c_x[i]))))\n",
    "    cf.append((WL(get_A(c_x[i]))))\n",
    "    cf.append((AC(get_A(c_x[i]))))\n",
    "    cf.append(((BE(get_A(c_x[i])))))\n",
    "    cf.append((SE(get_A(c_x[i]))))\n",
    "    cf.append((TRAS(get_A(c_x[i]))))\n",
    "    cf.append((VAR(get_A(c_x[i]))))\n",
    "    cf.append((AAC(get_A(c_x[i]))))\n",
    "    fx.append(cf)\n",
    "    y_mc.append(12)\n",
    "    print('>', end = '')\n",
    "    \n",
    "t2 = time.time()\n",
    "print(t2-t1)"
   ]
  },
  {
   "cell_type": "code",
   "execution_count": 65,
   "metadata": {},
   "outputs": [
    {
     "name": "stdout",
     "output_type": "stream",
     "text": [
      ">>>>>>>>>>>11.3002769947052\n"
     ]
    }
   ],
   "source": [
    "t1 = time.time()\n",
    "c_x = fus_x\n",
    "for i in range(len(c_x)):\n",
    "    cf = []\n",
    "    cf.append(AE(get_A(c_x[i])))\n",
    "    cf.append(SM2(get_A(c_x[i])))\n",
    "    cf.append((LOG(get_A(c_x[i]))))\n",
    "    cf.append((WL(get_A(c_x[i]))))\n",
    "    cf.append((AC(get_A(c_x[i]))))\n",
    "    cf.append(((BE(get_A(c_x[i])))))\n",
    "    cf.append((SE(get_A(c_x[i]))))\n",
    "    cf.append((TRAS(get_A(c_x[i]))))\n",
    "    cf.append((VAR(get_A(c_x[i]))))\n",
    "    cf.append((AAC(get_A(c_x[i]))))\n",
    "    fx.append(cf)\n",
    "    y_mc.append(13)\n",
    "    print('>', end = '')\n",
    "    \n",
    "t2 = time.time()\n",
    "print(t2-t1)"
   ]
  },
  {
   "cell_type": "code",
   "execution_count": 66,
   "metadata": {},
   "outputs": [
    {
     "name": "stdout",
     "output_type": "stream",
     "text": [
      ">>>>>>>>>>>>>>>>>>>>>>>>>>>>>>>>>>>>>>>>>>>>>>>>>>>>>>>>>>>>>>>>>>>>>>>>>>>>>>>>>>>>>>>>>>>>>>>>>>>>>>>106.6018316745758\n"
     ]
    }
   ],
   "source": [
    "t1 = time.time()\n",
    "c_x = lbbb_x\n",
    "for i in range(len(c_x)):\n",
    "    cf = []\n",
    "    cf.append(AE(get_A(c_x[i])))\n",
    "    cf.append(SM2(get_A(c_x[i])))\n",
    "    cf.append((LOG(get_A(c_x[i]))))\n",
    "    cf.append((WL(get_A(c_x[i]))))\n",
    "    cf.append((AC(get_A(c_x[i]))))\n",
    "    cf.append(((BE(get_A(c_x[i])))))\n",
    "    cf.append((SE(get_A(c_x[i]))))\n",
    "    cf.append((TRAS(get_A(c_x[i]))))\n",
    "    cf.append((VAR(get_A(c_x[i]))))\n",
    "    cf.append((AAC(get_A(c_x[i]))))\n",
    "    fx.append(cf)\n",
    "    y_mc.append(14)\n",
    "    print('>', end = '')\n",
    "    \n",
    "t2 = time.time()\n",
    "print(t2-t1)"
   ]
  },
  {
   "cell_type": "code",
   "execution_count": 67,
   "metadata": {},
   "outputs": [
    {
     "name": "stdout",
     "output_type": "stream",
     "text": [
      ">>>>>>>>>>>>>>>>>>>>>>>>>>>>>>>>>>>>>>>>>>>>>>>>>>>>>>>>>>>>>>78.72052884101868\n"
     ]
    }
   ],
   "source": [
    "t1 = time.time()\n",
    "c_x = rbbb_x\n",
    "for i in range(len(c_x)):\n",
    "    cf = []\n",
    "    cf.append(AE(get_A(c_x[i])))\n",
    "    cf.append(SM2(get_A(c_x[i])))\n",
    "    cf.append((LOG(get_A(c_x[i]))))\n",
    "    cf.append((WL(get_A(c_x[i]))))\n",
    "    cf.append((AC(get_A(c_x[i]))))\n",
    "    cf.append(((BE(get_A(c_x[i])))))\n",
    "    cf.append((SE(get_A(c_x[i]))))\n",
    "    cf.append((TRAS(get_A(c_x[i]))))\n",
    "    cf.append((VAR(get_A(c_x[i]))))\n",
    "    cf.append((AAC(get_A(c_x[i]))))\n",
    "    fx.append(cf)\n",
    "    y_mc.append(15)\n",
    "    print('>', end = '')\n",
    "    \n",
    "t2 = time.time()\n",
    "print(t2-t1)"
   ]
  },
  {
   "cell_type": "code",
   "execution_count": 68,
   "metadata": {},
   "outputs": [
    {
     "name": "stdout",
     "output_type": "stream",
     "text": [
      ">>>>>>>>>>13.400345802307129\n"
     ]
    }
   ],
   "source": [
    "t1 = time.time()\n",
    "c_x = sdhb_x\n",
    "for i in range(len(c_x)):\n",
    "    cf = []\n",
    "    cf.append(AE(get_A(c_x[i])))\n",
    "    cf.append(SM2(get_A(c_x[i])))\n",
    "    cf.append((LOG(get_A(c_x[i]))))\n",
    "    cf.append((WL(get_A(c_x[i]))))\n",
    "    cf.append((AC(get_A(c_x[i]))))\n",
    "    cf.append(((BE(get_A(c_x[i])))))\n",
    "    cf.append((SE(get_A(c_x[i]))))\n",
    "    cf.append((TRAS(get_A(c_x[i]))))\n",
    "    cf.append((VAR(get_A(c_x[i]))))\n",
    "    cf.append((AAC(get_A(c_x[i]))))\n",
    "    fx.append(cf)\n",
    "    y_mc.append(16)\n",
    "    print('>', end = '')\n",
    "    \n",
    "t2 = time.time()\n",
    "print(t2-t1)"
   ]
  },
  {
   "cell_type": "code",
   "execution_count": 70,
   "metadata": {},
   "outputs": [
    {
     "name": "stdout",
     "output_type": "stream",
     "text": [
      "1000\n",
      "1000\n"
     ]
    }
   ],
   "source": [
    "print(len(fx))\n",
    "print(len(y_mc))"
   ]
  },
  {
   "cell_type": "code",
   "execution_count": 72,
   "metadata": {},
   "outputs": [
    {
     "data": {
      "text/plain": [
       "(1000, 10)"
      ]
     },
     "execution_count": 72,
     "metadata": {},
     "output_type": "execute_result"
    }
   ],
   "source": [
    "import numpy as np\n",
    "fx = np.array(fx, dtype = 'float32')\n",
    "fx.shape"
   ]
  },
  {
   "cell_type": "code",
   "execution_count": 73,
   "metadata": {},
   "outputs": [
    {
     "name": "stdout",
     "output_type": "stream",
     "text": [
      "[3.4163018e+09 5.3098379e+04 1.9286356e+03 2.8326578e+04 1.4957513e-01\n",
      " 2.2935305e+00 1.5088350e+00 1.8876824e+06 2.2846521e+04 3.1334696e+01]\n",
      "1.0986328e-07\n",
      "0.99999994\n"
     ]
    }
   ],
   "source": [
    "from sklearn.preprocessing import StandardScaler\n",
    "\n",
    "scaler = StandardScaler()\n",
    "scaler.fit(fx)\n",
    "print(scaler.mean_)\n",
    "X_all = scaler.transform(fx)\n",
    "\n",
    "print(np.mean(X_all))\n",
    "print(np.std(X_all))"
   ]
  },
  {
   "cell_type": "code",
   "execution_count": 99,
   "metadata": {
    "collapsed": true
   },
   "outputs": [],
   "source": [
    "y_mc = np.array(y_mc)"
   ]
  },
  {
   "cell_type": "code",
   "execution_count": 100,
   "metadata": {
    "collapsed": true
   },
   "outputs": [],
   "source": [
    "# saving features\n",
    "np.save('features.npy', fx)\n",
    "np.save('y_mc.npy', y_mc)"
   ]
  },
  {
   "cell_type": "code",
   "execution_count": 101,
   "metadata": {},
   "outputs": [
    {
     "name": "stdout",
     "output_type": "stream",
     "text": [
      "1000\n",
      "(1000, 905)\n"
     ]
    }
   ],
   "source": [
    "print(len(x_all))\n",
    "x_all = np.array(x_all, dtype='float32')\n",
    "print(x_all.shape)"
   ]
  },
  {
   "cell_type": "code",
   "execution_count": 102,
   "metadata": {
    "collapsed": true
   },
   "outputs": [],
   "source": [
    "np.save('x_sigs.npy', x_all)"
   ]
  },
  {
   "cell_type": "code",
   "execution_count": 103,
   "metadata": {},
   "outputs": [
    {
     "data": {
      "text/plain": [
       "(1000,)"
      ]
     },
     "execution_count": 103,
     "metadata": {},
     "output_type": "execute_result"
    }
   ],
   "source": [
    "y_mc.shape"
   ]
  },
  {
   "cell_type": "code",
   "execution_count": 106,
   "metadata": {},
   "outputs": [
    {
     "data": {
      "text/plain": [
       "numpy.int32"
      ]
     },
     "execution_count": 106,
     "metadata": {},
     "output_type": "execute_result"
    }
   ],
   "source": [
    "type(y_mc[0,])"
   ]
  },
  {
   "cell_type": "code",
   "execution_count": 2,
   "metadata": {
    "collapsed": true
   },
   "outputs": [],
   "source": [
    "# loading the saved data"
   ]
  },
  {
   "cell_type": "code",
   "execution_count": 3,
   "metadata": {},
   "outputs": [],
   "source": [
    "x_all = np.load('x_sigs.npy')\n",
    "fx = np.load('features.npy')\n",
    "y_mc = np.load('y_mc.npy')"
   ]
  },
  {
   "cell_type": "code",
   "execution_count": 3,
   "metadata": {
    "collapsed": true
   },
   "outputs": [],
   "source": [
    "# test, train fold generation"
   ]
  },
  {
   "cell_type": "code",
   "execution_count": 4,
   "metadata": {
    "collapsed": true
   },
   "outputs": [],
   "source": [
    "y_b = np.copy(y_mc)\n",
    "y_b[y_b<=1] = 0\n",
    "y_b[y_b>=2] = 1"
   ]
  },
  {
   "cell_type": "code",
   "execution_count": 5,
   "metadata": {},
   "outputs": [
    {
     "name": "stdout",
     "output_type": "stream",
     "text": [
      "[3.4163018e+09 5.3098379e+04 1.9286356e+03 2.8326578e+04 1.4957513e-01\n",
      " 2.2935305e+00 1.5088350e+00 1.8876824e+06 2.2846521e+04 3.1334696e+01]\n",
      "1.0986328e-07\n",
      "0.99999994\n"
     ]
    }
   ],
   "source": [
    "from sklearn.preprocessing import StandardScaler\n",
    "\n",
    "scaler = StandardScaler()\n",
    "scaler.fit(fx)\n",
    "print(scaler.mean_)\n",
    "fx = scaler.transform(fx)\n",
    "\n",
    "print(np.mean(fx))\n",
    "print(np.std(fx))"
   ]
  },
  {
   "cell_type": "code",
   "execution_count": 134,
   "metadata": {},
   "outputs": [
    {
     "name": "stdout",
     "output_type": "stream",
     "text": [
      "StratifiedShuffleSplit(n_splits=1, random_state=0, test_size=0.2,\n",
      "            train_size=None)\n",
      "TRAIN: [962 194 828 644  69 256  83 552 361 776 598 829 820 864 614 268 919 188\n",
      "  93 726 635 487 792 734 662 544 266 559 910 274 617 624 823 330  90  89\n",
      " 959  60 969 855 632 187 839 148 843 290 160  65 778 468 114 513 512 528\n",
      " 859 269  40 514 129 484 108 691 935 939 531 396 346 345 523 245 668 672\n",
      " 475 504 264 955 159 132 520 560 669 558 498  85 511 594 813  19 711   6\n",
      " 189 848 689  61 360 428 444 542 310 947 974  13 168 895 369 161 247 972\n",
      " 295 740 996 715 920 246 212 312 557 930 152 846 505 549  26 474 198  33\n",
      " 299 746 968 590 944 425 805 439  59 196 719  22 154 784  52 692 275 199\n",
      " 733 917 276 414 254 869 849 500 263 393 236 490 725 190 789  96 661 433\n",
      " 485 902 471 690 516 663 816  50 351  30 483 647 178  64 398 496 431 995\n",
      " 794 125 709 581 443 308 880 854 736  63  81 577 419 401 519 455 502 499\n",
      " 205 600  73 543  94 493 293 508 737 233 716 538 707 568 806 175 392 327\n",
      " 457 997 927 138 340 319 126 729 621 100 281 298 994 173 626 176 144 738\n",
      " 564 727 283 453 113 601 336 318 131 118 721 506   4 451 682 774 825   1\n",
      " 150 373 135 186 824 437 410 241 842 413 909  51 742  67 933 786 210  76\n",
      " 992 109 573 470 766 141 158 227 182 938 731 639 817  35 732 166 987 646\n",
      "  23  77 958 993 638 866 833 814 810 355 231 687 480 705 228 146  14 452\n",
      " 225 884 752  92 767 337 592 322 779 717 953 840 238 466 611 367 383 723\n",
      " 695 191 314 970 432 539 472 279 606 206 569 949  48 307 240 359 653 780\n",
      " 250 759 106  95 809 526 892 659 677 501 702 928 403 722 311 217 795 918\n",
      " 418 329 149 588 943 822 980 489 224 284 390 841 366 406 877 838 110  80\n",
      " 291 641 388 145 550 834 509 447 811 356 416 223 948 965 605 770 665 164\n",
      " 950 903  44  58 272  86 399 753  24 488 469  79 441 775 104 382 932 567\n",
      " 459 317 710 971 326 111  20 426 170  74 222 964 698 234 325 405 937 572\n",
      " 303 478 781 420 260 645 787 389 790 599 819 259 219 167 788 730 221 881\n",
      " 678 858 748 321 941 868 458 597 853 802 409 656 863 142 372 985 583 637\n",
      " 546 889 397 536 339 123 666 473 686 873 248 137 762 423 407 694 945 261\n",
      " 320 670   3 229  78 886 306 929 494  66 124 368 850 213 800 376 102 706\n",
      " 515 429 503 207 589 460   8 908 871  98 708 899 741 521 979 607 673 540\n",
      " 252 852 239 309 253 157  54 874 882 226 342 518 718 316 613 724 338 344\n",
      "   0 548 348 957 134 120 461 412 643 479 896 578 349 616 768  16 658 579\n",
      "  10 990 763 984 563 214 769 421 492 524 826 912  18 517 963 952 622 395\n",
      " 879 865 180  68 714 530  37 545 301 522 625 580 184 112 696 936 890 713\n",
      " 255 750 153 171  56 358 749 156 926  55 931 216 486 684 107  17 956 230\n",
      " 562 760 446 924 374 755 343 378 960 258 365 835  46 495 793 204 350 404\n",
      "  27 278 122 294  43   5 449  15  49 427 271 424 208 844 680 136 561 377\n",
      " 876 140 650 375 797 371 934  97 220 286  29 857 394 201 619 942  11 582\n",
      " 913 527 977  71 657 585 324 575 799 758 297 785 595 364 445  41  75 386\n",
      " 380 872 771 925 438 808 379 570 861 888 660 743 450 362 215 973 867 887\n",
      " 363 139 200 631 630  36 534 703 571 209 807   2 333  21 634 603 116 566\n",
      " 649 812 179 591 904 951 370 507  12 103 169 162 712 764 586  34 636 442\n",
      " 353 130 851 978 640 940 893 648 408 627 237 837 986 897 885 232 101 999\n",
      " 482 270 510 821 915  45 133 961 815 235 674 875 615 347 334 773 756 155\n",
      " 385 757 305   7 856 946 143 629 967 497 533 744 623 436 831 596 982  62\n",
      " 532 218 181 249 679 700 411 922] TEST: [434 491 704  39 273  42 565 911  25 587 921 739 878  88 463 422 282 845\n",
      " 574 195 862 289 761 551 387 681 415 765 654 277 554 830 328 989 620  99\n",
      " 728 735 602  53 693 667 898 655 391 315 818 440 556 280 331 535 203 477\n",
      " 464 966 243 916 905 832 988 462 618 357  82 685 296 177 701 954 481 292\n",
      " 244 675 699   9 720 185 610 894 628  57 300 267 671  38 400 151 197 165\n",
      " 754 801 900 341 172 288 448 998 791 547  31 593 456 117 633 891 976 105\n",
      " 354 796 128 860  72 242 651 257 352 553 783 381 676 287 127 537 402 991\n",
      " 923 529 262 664 745 604 174 251 384 804 798 163  70 683 697 883 115 323\n",
      "  28 211 576 465 642 906 435 584 847 612 652 335 467 313 609 907 782 202\n",
      "  87 285 975 193 803 430 555 121 525 836  84 608 476  47 981 777 747 119\n",
      " 827 901 983  32 870 332  91 772 914 541 302 192 454 417 265 147 688 304\n",
      " 183 751]\n"
     ]
    }
   ],
   "source": [
    "from sklearn.model_selection import StratifiedShuffleSplit\n",
    "\n",
    "sss = StratifiedShuffleSplit(n_splits=1, test_size=0.2, random_state=0)\n",
    "sss.get_n_splits(fx, y_b)\n",
    "\n",
    "print(sss)       \n",
    "\n",
    "for train_index, test_index in sss.split(fx, y_b):\n",
    "    print(\"TRAIN:\", train_index, \"TEST:\", test_index)\n",
    "    Xs_train, Xf_train, Xs_test, Xf_test = x_all[train_index], fx[train_index], x_all[test_index], fx[test_index]\n",
    "    y_train, y_test = y_b[train_index], y_b[test_index]"
   ]
  },
  {
   "cell_type": "code",
   "execution_count": 8,
   "metadata": {},
   "outputs": [
    {
     "name": "stdout",
     "output_type": "stream",
     "text": [
      "(800, 905)\n",
      "(800, 10)\n",
      "(200, 905)\n",
      "(200, 10)\n"
     ]
    }
   ],
   "source": [
    "print(Xs_train.shape)\n",
    "print(Xf_train.shape)\n",
    "print(Xs_test.shape)\n",
    "print(Xf_test.shape)"
   ]
  },
  {
   "cell_type": "code",
   "execution_count": 9,
   "metadata": {},
   "outputs": [
    {
     "name": "stdout",
     "output_type": "stream",
     "text": [
      "(200,)\n"
     ]
    },
    {
     "data": {
      "image/png": "[encoded data removed]",
      "text/plain": [
       "<Figure size 432x288 with 1 Axes>"
      ]
     },
     "metadata": {},
     "output_type": "display_data"
    }
   ],
   "source": [
    "print(y_test.shape)\n",
    "plt.hist(y_test)\n",
    "plt.show()"
   ]
  },
  {
   "cell_type": "code",
   "execution_count": 10,
   "metadata": {},
   "outputs": [
    {
     "name": "stdout",
     "output_type": "stream",
     "text": [
      "(800,)\n"
     ]
    },
    {
     "data": {
      "image/png": "[encoded data removed]",
      "text/plain": [
       "<Figure size 432x288 with 1 Axes>"
      ]
     },
     "metadata": {},
     "output_type": "display_data"
    }
   ],
   "source": [
    "print(y_train.shape)\n",
    "plt.hist(y_train)\n",
    "plt.show()"
   ]
  },
  {
   "cell_type": "code",
   "execution_count": 11,
   "metadata": {
    "collapsed": true
   },
   "outputs": [],
   "source": [
    "freq = np.unique(y_train, return_counts=True)"
   ]
  },
  {
   "cell_type": "code",
   "execution_count": 12,
   "metadata": {},
   "outputs": [
    {
     "name": "stdout",
     "output_type": "stream",
     "text": [
      "[262 538]\n"
     ]
    }
   ],
   "source": [
    "print(freq[1])"
   ]
  },
  {
   "cell_type": "code",
   "execution_count": 11,
   "metadata": {
    "collapsed": true
   },
   "outputs": [],
   "source": [
    "# 10 fold CV for validation"
   ]
  },
  {
   "cell_type": "code",
   "execution_count": 13,
   "metadata": {},
   "outputs": [
    {
     "name": "stdout",
     "output_type": "stream",
     "text": [
      "[CV]  ................................................................\n",
      "[CV] ................................................. , total=   0.0s\n",
      "[CV]  ................................................................\n",
      "[CV] ................................................. , total=   0.0s\n",
      "[CV]  ................................................................\n",
      "[CV] ................................................. , total=   0.0s\n",
      "[CV]  ................................................................\n",
      "[CV] ................................................. , total=   0.0s\n",
      "[CV]  ................................................................\n",
      "[CV] ................................................. , total=   0.0s\n",
      "[CV]  ................................................................\n",
      "[CV] ................................................. , total=   0.0s\n",
      "[CV]  ................................................................\n",
      "[CV] ................................................. , total=   0.0s\n",
      "[CV]  ................................................................\n",
      "[CV] ................................................. , total=   0.0s\n",
      "[CV]  ................................................................\n",
      "[CV] ................................................. , total=   0.0s\n",
      "[CV]  ................................................................\n",
      "[CV] ................................................. , total=   0.0s\n",
      "Accuracy:  0.7313423972495704 0.041036368759036684\n"
     ]
    },
    {
     "name": "stderr",
     "output_type": "stream",
     "text": [
      "[Parallel(n_jobs=1)]: Done   1 out of   1 | elapsed:    0.0s remaining:    0.0s\n",
      "[Parallel(n_jobs=1)]: Done  10 out of  10 | elapsed:    0.0s finished\n"
     ]
    }
   ],
   "source": [
    "from sklearn.neighbors import KNeighborsClassifier\n",
    "from sklearn.model_selection import cross_val_score\n",
    "knn = KNeighborsClassifier(n_neighbors=50)\n",
    "\n",
    "scores = cross_val_score(knn, Xf_train, y_train, cv=10, verbose=2)\n",
    "print('Accuracy: ', scores.mean(), scores.std() * 2)"
   ]
  },
  {
   "cell_type": "code",
   "execution_count": 14,
   "metadata": {},
   "outputs": [
    {
     "name": "stdout",
     "output_type": "stream",
     "text": [
      "[CV]  ................................................................\n",
      "[CV] ................................................. , total=   0.2s\n",
      "[CV]  ................................................................\n"
     ]
    },
    {
     "name": "stderr",
     "output_type": "stream",
     "text": [
      "[Parallel(n_jobs=1)]: Done   1 out of   1 | elapsed:    0.2s remaining:    0.0s\n"
     ]
    },
    {
     "name": "stdout",
     "output_type": "stream",
     "text": [
      "[CV] ................................................. , total=   0.2s\n",
      "[CV]  ................................................................\n",
      "[CV] ................................................. , total=   0.2s\n",
      "[CV]  ................................................................\n",
      "[CV] ................................................. , total=   0.2s\n",
      "[CV]  ................................................................\n",
      "[CV] ................................................. , total=   0.2s\n",
      "[CV]  ................................................................\n",
      "[CV] ................................................. , total=   0.2s\n",
      "[CV]  ................................................................\n",
      "[CV] ................................................. , total=   0.2s\n",
      "[CV]  ................................................................\n",
      "[CV] ................................................. , total=   0.2s\n",
      "[CV]  ................................................................\n",
      "[CV] ................................................. , total=   0.2s\n",
      "[CV]  ................................................................\n",
      "[CV] ................................................. , total=   0.2s\n",
      "Accuracy:  0.8688806844819503 0.11519041231514802\n"
     ]
    },
    {
     "name": "stderr",
     "output_type": "stream",
     "text": [
      "[Parallel(n_jobs=1)]: Done  10 out of  10 | elapsed:    2.7s finished\n"
     ]
    }
   ],
   "source": [
    "from sklearn.ensemble import RandomForestClassifier\n",
    "clfrf = RandomForestClassifier(n_estimators=100, max_depth=None,\n",
    "    min_samples_split=4, random_state=0)\n",
    "\n",
    "scores = cross_val_score(clfrf, Xf_train, y_train, cv=10, verbose=2)\n",
    "print('Accuracy: ', scores.mean(), scores.std() * 2)"
   ]
  },
  {
   "cell_type": "code",
   "execution_count": 15,
   "metadata": {},
   "outputs": [
    {
     "name": "stdout",
     "output_type": "stream",
     "text": [
      "[CV]  ................................................................\n",
      "[CV] ................................................. , total=   3.0s\n",
      "[CV]  ................................................................\n",
      "[CV] ................................................. , total=   0.0s\n",
      "[CV]  ................................................................\n",
      "[CV] ................................................. , total=   0.0s\n",
      "[CV]  ................................................................\n",
      "[CV] ................................................. , total=   0.0s\n",
      "[CV]  ................................................................\n",
      "[CV] ................................................. , total=   0.0s\n",
      "[CV]  ................................................................\n",
      "[CV] ................................................. , total=   0.0s\n",
      "[CV]  ................................................................\n",
      "[CV] ................................................. , total=   0.0s\n",
      "[CV]  ................................................................\n",
      "[CV] ................................................. , total=   0.0s\n",
      "[CV]  ................................................................\n",
      "[CV] ................................................. , total=   0.0s\n",
      "[CV]  ................................................................\n",
      "[CV] ................................................. , total=   0.0s\n",
      "Accuracy:  0.7124820284419441 0.04882010844188605\n"
     ]
    },
    {
     "name": "stderr",
     "output_type": "stream",
     "text": [
      "C:\\Anaconda3\\lib\\site-packages\\sklearn\\discriminant_analysis.py:387: UserWarning: Variables are collinear.\n",
      "  warnings.warn(\"Variables are collinear.\")\n",
      "[Parallel(n_jobs=1)]: Done   1 out of   1 | elapsed:    3.0s remaining:    0.0s\n",
      "C:\\Anaconda3\\lib\\site-packages\\sklearn\\discriminant_analysis.py:387: UserWarning: Variables are collinear.\n",
      "  warnings.warn(\"Variables are collinear.\")\n",
      "C:\\Anaconda3\\lib\\site-packages\\sklearn\\discriminant_analysis.py:387: UserWarning: Variables are collinear.\n",
      "  warnings.warn(\"Variables are collinear.\")\n",
      "C:\\Anaconda3\\lib\\site-packages\\sklearn\\discriminant_analysis.py:387: UserWarning: Variables are collinear.\n",
      "  warnings.warn(\"Variables are collinear.\")\n",
      "C:\\Anaconda3\\lib\\site-packages\\sklearn\\discriminant_analysis.py:387: UserWarning: Variables are collinear.\n",
      "  warnings.warn(\"Variables are collinear.\")\n",
      "C:\\Anaconda3\\lib\\site-packages\\sklearn\\discriminant_analysis.py:387: UserWarning: Variables are collinear.\n",
      "  warnings.warn(\"Variables are collinear.\")\n",
      "C:\\Anaconda3\\lib\\site-packages\\sklearn\\discriminant_analysis.py:387: UserWarning: Variables are collinear.\n",
      "  warnings.warn(\"Variables are collinear.\")\n",
      "C:\\Anaconda3\\lib\\site-packages\\sklearn\\discriminant_analysis.py:387: UserWarning: Variables are collinear.\n",
      "  warnings.warn(\"Variables are collinear.\")\n",
      "C:\\Anaconda3\\lib\\site-packages\\sklearn\\discriminant_analysis.py:387: UserWarning: Variables are collinear.\n",
      "  warnings.warn(\"Variables are collinear.\")\n",
      "C:\\Anaconda3\\lib\\site-packages\\sklearn\\discriminant_analysis.py:387: UserWarning: Variables are collinear.\n",
      "  warnings.warn(\"Variables are collinear.\")\n",
      "[Parallel(n_jobs=1)]: Done  10 out of  10 | elapsed:    3.0s finished\n"
     ]
    }
   ],
   "source": [
    "from sklearn.discriminant_analysis import LinearDiscriminantAnalysis\n",
    "clflda = LinearDiscriminantAnalysis()\n",
    "\n",
    "scores = cross_val_score(clflda, Xf_train, y_train, cv=10, verbose=2)\n",
    "print('Accuracy: ', scores.mean(), scores.std() * 2)"
   ]
  },
  {
   "cell_type": "code",
   "execution_count": 55,
   "metadata": {},
   "outputs": [
    {
     "name": "stdout",
     "output_type": "stream",
     "text": [
      "[CV]  ................................................................\n",
      "[CV] ................................................. , total=   0.0s\n",
      "[CV]  ................................................................\n",
      "[CV] ................................................. , total=   0.0s\n",
      "[CV]  ................................................................\n",
      "[CV] ................................................. , total=   0.0s\n",
      "[CV]  ................................................................\n",
      "[CV] ................................................. , total=   0.0s\n",
      "[CV]  ................................................................\n",
      "[CV] ................................................. , total=   0.0s\n",
      "[CV]  ................................................................\n",
      "[CV] ................................................. , total=   0.0s\n",
      "[CV]  ................................................................\n",
      "[CV] ................................................. , total=   0.0s\n",
      "[CV]  ................................................................\n",
      "[CV] ................................................. , total=   0.0s\n",
      "[CV]  ................................................................\n",
      "[CV] ................................................. , total=   0.0s\n",
      "[CV]  ................................................................\n",
      "[CV] ................................................. , total=   0.0s\n",
      "Accuracy:  0.8775539146741679 0.06822535886073894\n"
     ]
    },
    {
     "name": "stderr",
     "output_type": "stream",
     "text": [
      "[Parallel(n_jobs=1)]: Done   1 out of   1 | elapsed:    0.0s remaining:    0.0s\n",
      "[Parallel(n_jobs=1)]: Done  10 out of  10 | elapsed:    0.1s finished\n"
     ]
    }
   ],
   "source": [
    "from sklearn import svm\n",
    "\n",
    "clfsvm = svm.SVC(gamma=0.1, C = 10, decision_function_shape='ovo')\n",
    "scores = cross_val_score(clfsvm, Xf_train, y_train, cv=10, verbose=2)\n",
    "print('Accuracy: ', scores.mean(), scores.std() * 2)"
   ]
  },
  {
   "cell_type": "code",
   "execution_count": 60,
   "metadata": {
    "collapsed": true
   },
   "outputs": [],
   "source": [
    "# test performance"
   ]
  },
  {
   "cell_type": "code",
   "execution_count": 61,
   "metadata": {
    "collapsed": true
   },
   "outputs": [],
   "source": [
    "from sklearn.metrics import accuracy_score\n",
    "from sklearn.metrics import f1_score\n",
    "from sklearn.metrics import precision_score\n",
    "from sklearn.metrics import recall_score"
   ]
  },
  {
   "cell_type": "code",
   "execution_count": 65,
   "metadata": {},
   "outputs": [
    {
     "name": "stdout",
     "output_type": "stream",
     "text": [
      "acc:  0.74\n",
      "f1:  0.8278145695364237\n",
      "precision:  0.7440476190476191\n",
      "recall:  0.9328358208955224\n"
     ]
    }
   ],
   "source": [
    "knn.fit(Xf_train, y_train)\n",
    "y_p = knn.predict(Xf_test)\n",
    "print('acc: ', accuracy_score(y_test, y_p))\n",
    "print('f1: ', f1_score(y_test, y_p))\n",
    "print('precision: ', precision_score(y_test, y_p))\n",
    "print('recall: ', recall_score(y_test, y_p))"
   ]
  },
  {
   "cell_type": "code",
   "execution_count": 66,
   "metadata": {},
   "outputs": [
    {
     "name": "stdout",
     "output_type": "stream",
     "text": [
      "acc:  0.885\n",
      "f1:  0.9144981412639405\n",
      "precision:  0.9111111111111111\n",
      "recall:  0.917910447761194\n"
     ]
    }
   ],
   "source": [
    "clfrf.fit(Xf_train, y_train)\n",
    "y_p = clfrf.predict(Xf_test)\n",
    "print('acc: ', accuracy_score(y_test, y_p))\n",
    "print('f1: ', f1_score(y_test, y_p))\n",
    "print('precision: ', precision_score(y_test, y_p))\n",
    "print('recall: ', recall_score(y_test, y_p))"
   ]
  },
  {
   "cell_type": "code",
   "execution_count": 67,
   "metadata": {},
   "outputs": [
    {
     "name": "stdout",
     "output_type": "stream",
     "text": [
      "acc:  0.72\n",
      "f1:  0.8193548387096773\n",
      "precision:  0.7215909090909091\n",
      "recall:  0.9477611940298507\n"
     ]
    },
    {
     "name": "stderr",
     "output_type": "stream",
     "text": [
      "C:\\Anaconda3\\lib\\site-packages\\sklearn\\discriminant_analysis.py:387: UserWarning: Variables are collinear.\n",
      "  warnings.warn(\"Variables are collinear.\")\n"
     ]
    }
   ],
   "source": [
    "clflda.fit(Xf_train, y_train)\n",
    "y_p = clflda.predict(Xf_test)\n",
    "print('acc: ', accuracy_score(y_test, y_p))\n",
    "print('f1: ', f1_score(y_test, y_p))\n",
    "print('precision: ', precision_score(y_test, y_p))\n",
    "print('recall: ', recall_score(y_test, y_p))"
   ]
  },
  {
   "cell_type": "code",
   "execution_count": 68,
   "metadata": {},
   "outputs": [
    {
     "name": "stdout",
     "output_type": "stream",
     "text": [
      "acc:  0.9\n",
      "f1:  0.927007299270073\n",
      "precision:  0.9071428571428571\n",
      "recall:  0.9477611940298507\n"
     ]
    }
   ],
   "source": [
    "clfsvm.fit(Xf_train, y_train)\n",
    "y_p = clfsvm.predict(Xf_test)\n",
    "print('acc: ', accuracy_score(y_test, y_p))\n",
    "print('f1: ', f1_score(y_test, y_p))\n",
    "print('precision: ', precision_score(y_test, y_p))\n",
    "print('recall: ', recall_score(y_test, y_p))"
   ]
  },
  {
   "cell_type": "code",
   "execution_count": 104,
   "metadata": {
    "collapsed": true
   },
   "outputs": [],
   "source": [
    "# LSTM approach"
   ]
  },
  {
   "cell_type": "code",
   "execution_count": 107,
   "metadata": {},
   "outputs": [
    {
     "data": {
      "text/plain": [
       "(800, 905)"
      ]
     },
     "execution_count": 107,
     "metadata": {},
     "output_type": "execute_result"
    }
   ],
   "source": [
    "Xs_train.shape"
   ]
  },
  {
   "cell_type": "code",
   "execution_count": 135,
   "metadata": {},
   "outputs": [
    {
     "name": "stdout",
     "output_type": "stream",
     "text": [
      "(800, 905, 1)\n",
      "(200, 905, 1)\n"
     ]
    }
   ],
   "source": [
    "Xs_train = np.reshape(Xs_train, (800,905,1))\n",
    "print(Xs_train.shape)\n",
    "\n",
    "Xs_test = np.reshape(Xs_test, (200,905,1))\n",
    "print(Xs_test.shape)"
   ]
  },
  {
   "cell_type": "code",
   "execution_count": 136,
   "metadata": {
    "collapsed": true
   },
   "outputs": [],
   "source": [
    "from keras.utils import to_categorical\n",
    "y_train = to_categorical(y_train, 2)\n",
    "y_test = to_categorical(y_test, 2)"
   ]
  },
  {
   "cell_type": "code",
   "execution_count": 143,
   "metadata": {},
   "outputs": [
    {
     "name": "stdout",
     "output_type": "stream",
     "text": [
      "(800, 5, 1, 181, 1)\n",
      "(200, 5, 1, 181, 1)\n"
     ]
    }
   ],
   "source": [
    "Xs_train_rs = np.reshape(Xs_train, (800, 5, 1, 905//5, 1))\n",
    "Xs_test_rs = np.reshape(Xs_test, (200, 5, 1, 905//5, 1))\n",
    "print(Xs_train_rs.shape)\n",
    "print(Xs_test_rs.shape)"
   ]
  },
  {
   "cell_type": "code",
   "execution_count": 238,
   "metadata": {},
   "outputs": [
    {
     "name": "stdout",
     "output_type": "stream",
     "text": [
      "[0.06999999999999999, 0.048999999999999995, 0.03429999999999999, 0.024009999999999997, 0.016806999999999996, 0.011764899999999997, 0.008235429999999997, 0.005764800999999997, 0.004035360699999998, 0.0028247524899999983]\n"
     ]
    },
    {
     "data": {
      "image/png": "[encoded data removed]",
      "text/plain": [
       "<Figure size 432x288 with 1 Axes>"
      ]
     },
     "metadata": {},
     "output_type": "display_data"
    }
   ],
   "source": [
    "y = [step_decay(x) for x in range(10)]\n",
    "print(y)\n",
    "plt.plot(y)\n",
    "plt.show()"
   ]
  },
  {
   "cell_type": "code",
   "execution_count": 248,
   "metadata": {},
   "outputs": [
    {
     "data": {
      "text/plain": [
       "63"
      ]
     },
     "execution_count": 248,
     "metadata": {},
     "output_type": "execute_result"
    }
   ],
   "source": [
    "(2<<5) - 1"
   ]
  },
  {
   "cell_type": "code",
   "execution_count": 257,
   "metadata": {},
   "outputs": [],
   "source": [
    "from keras.models import Model\n",
    "from keras.layers import LSTM, Dense, Dropout, Input, ConvLSTM2D, Flatten, Add, Concatenate, Dot, Multiply\n",
    "from keras.layers import Maximum, Average, Activation\n",
    "from keras.optimizers import Adam, SGD\n",
    "from keras.callbacks import ModelCheckpoint, LearningRateScheduler\n",
    "import math\n",
    "\n",
    "def step_decay(epoch):\n",
    "    initial_lrate = 0.1\n",
    "    drop = 0.7\n",
    "    epochs_drop = 1.0\n",
    "    lrate = initial_lrate * math.pow(drop, math.floor((1+epoch)/epochs_drop))\n",
    "    return lrate\n",
    "\n",
    "lrate = LearningRateScheduler(step_decay)\n",
    "\n",
    "neurons = (2<<5) - 1\n",
    "\n",
    "t_len = 905\n",
    "n_class = 2\n",
    "\n",
    "\n",
    "x_i = Input(shape = (5,1,905//5,1))\n",
    "x_i2 = Input(shape = (10,))\n",
    "\n",
    "# bf\n",
    "x = ConvLSTM2D(filters=128, kernel_size=(1,3), activation='relu')(x_i)\n",
    "x = Dropout(0.4)(x)\n",
    "x = Flatten()(x)\n",
    "\n",
    "#b1\n",
    "x_pa = Dense(neurons)(x)\n",
    "x = Activation('relu')(x_pa)\n",
    "x = Dropout(0.1)(x)\n",
    "\n",
    "#b2\n",
    "x_pa2 = Dense(neurons)(x_i2)\n",
    "x2 = Activation('relu')(x_pa2)\n",
    "x2 = Dropout(0.1)(x2)\n",
    "x_dot = Dot(axes=1, normalize=True)([x2, x]) \n",
    "\n",
    "# Dot gives 75% test axes=1, normalize=True\n",
    "# Add 33% Mul got stuck at 75% Max got stuck 70%\n",
    "# Average stuck 70%\n",
    "\n",
    "x_add = Concatenate()([x_dot, x_pa])\n",
    "x_f = Activation('relu')(x_add)\n",
    "\n",
    "x_add2 = Concatenate()([x_dot, x_pa2])\n",
    "x_f2 = Activation('relu')(x_add2)\n",
    "\n",
    "x_dot2 = Dot(axes=1, normalize=True)([x_f, x_f2])\n",
    "\n",
    "x_add = Concatenate()([x_dot2, x_pa])\n",
    "x_f = Activation('relu')(x_add)\n",
    "\n",
    "x_add2 = Concatenate()([x_dot2, x_pa2])\n",
    "x_f2 = Activation('relu')(x_add2)\n",
    "\n",
    "x_dot3 = Dot(axes=1, normalize=True)([x_f, x_f2])\n",
    "\n",
    "x_add = Concatenate()([x_dot3, x_pa])\n",
    "x_f = Activation('relu')(x_add)\n",
    "\n",
    "x_add2 = Concatenate()([x_dot3, x_pa2])\n",
    "x_f2 = Activation('relu')(x_add2)\n",
    "\n",
    "x_dot4 = Dot(axes=1, normalize=True)([x_f, x_f2])\n",
    "\n",
    "x_add = Concatenate()([x_dot4, x_pa])\n",
    "x_f = Activation('relu')(x_add)\n",
    "\n",
    "x_add2 = Concatenate()([x_dot4, x_pa2])\n",
    "x_f2 = Activation('relu')(x_add2)\n",
    "\n",
    "x_dot5 = Dot(axes=1, normalize=True)([x_f, x_f2])\n",
    "\n",
    "x_add = Concatenate()([x_dot5, x_i2])\n",
    "x_f = Activation('relu')(x_add)\n",
    "\n",
    "x_f = Dense(128, activation='relu')(x_f)\n",
    "\n",
    "\n",
    "x = Dropout(0.2)(x_f)\n",
    "x_o = Dense(n_class, activation='softmax')(x)\n",
    "\n",
    "\n",
    "model = Model([x_i, x_i2], x_o)\n",
    "\n",
    "\n",
    "# checkpoint\n",
    "filepath=\"weights-bin-{epoch:02d}-{val_acc:.2f}.hdf5\"\n",
    "checkpoint = ModelCheckpoint(filepath, monitor='val_acc', verbose=1, save_best_only=True, mode='max')\n",
    "callbacks_list = [checkpoint, lrate]\n",
    "\n",
    "model.compile(loss='categorical_crossentropy', optimizer=Adam(lr=0.01), metrics=['accuracy'])"
   ]
  },
  {
   "cell_type": "code",
   "execution_count": 258,
   "metadata": {},
   "outputs": [
    {
     "name": "stdout",
     "output_type": "stream",
     "text": [
      "__________________________________________________________________________________________________\n",
      "Layer (type)                    Output Shape         Param #     Connected to                     \n",
      "==================================================================================================\n",
      "input_90 (InputLayer)           (None, 5, 1, 181, 1) 0                                            \n",
      "__________________________________________________________________________________________________\n",
      "conv_lst_m2d_44 (ConvLSTM2D)    (None, 1, 179, 128)  198656      input_90[0][0]                   \n",
      "__________________________________________________________________________________________________\n",
      "dropout_83 (Dropout)            (None, 1, 179, 128)  0           conv_lst_m2d_44[0][0]            \n",
      "__________________________________________________________________________________________________\n",
      "input_91 (InputLayer)           (None, 10)           0                                            \n",
      "__________________________________________________________________________________________________\n",
      "flatten_40 (Flatten)            (None, 22912)        0           dropout_83[0][0]                 \n",
      "__________________________________________________________________________________________________\n",
      "dense_142 (Dense)               (None, 63)           693         input_91[0][0]                   \n",
      "__________________________________________________________________________________________________\n",
      "dense_141 (Dense)               (None, 63)           1443519     flatten_40[0][0]                 \n",
      "__________________________________________________________________________________________________\n",
      "activation_29 (Activation)      (None, 63)           0           dense_142[0][0]                  \n",
      "__________________________________________________________________________________________________\n",
      "activation_28 (Activation)      (None, 63)           0           dense_141[0][0]                  \n",
      "__________________________________________________________________________________________________\n",
      "dropout_85 (Dropout)            (None, 63)           0           activation_29[0][0]              \n",
      "__________________________________________________________________________________________________\n",
      "dropout_84 (Dropout)            (None, 63)           0           activation_28[0][0]              \n",
      "__________________________________________________________________________________________________\n",
      "dot_29 (Dot)                    (None, 1)            0           dropout_85[0][0]                 \n",
      "                                                                 dropout_84[0][0]                 \n",
      "__________________________________________________________________________________________________\n",
      "concatenate_26 (Concatenate)    (None, 64)           0           dot_29[0][0]                     \n",
      "                                                                 dense_141[0][0]                  \n",
      "__________________________________________________________________________________________________\n",
      "concatenate_27 (Concatenate)    (None, 64)           0           dot_29[0][0]                     \n",
      "                                                                 dense_142[0][0]                  \n",
      "__________________________________________________________________________________________________\n",
      "activation_30 (Activation)      (None, 64)           0           concatenate_26[0][0]             \n",
      "__________________________________________________________________________________________________\n",
      "activation_31 (Activation)      (None, 64)           0           concatenate_27[0][0]             \n",
      "__________________________________________________________________________________________________\n",
      "dot_30 (Dot)                    (None, 1)            0           activation_30[0][0]              \n",
      "                                                                 activation_31[0][0]              \n",
      "__________________________________________________________________________________________________\n",
      "concatenate_28 (Concatenate)    (None, 64)           0           dot_30[0][0]                     \n",
      "                                                                 dense_141[0][0]                  \n",
      "__________________________________________________________________________________________________\n",
      "concatenate_29 (Concatenate)    (None, 64)           0           dot_30[0][0]                     \n",
      "                                                                 dense_142[0][0]                  \n",
      "__________________________________________________________________________________________________\n",
      "activation_32 (Activation)      (None, 64)           0           concatenate_28[0][0]             \n",
      "__________________________________________________________________________________________________\n",
      "activation_33 (Activation)      (None, 64)           0           concatenate_29[0][0]             \n",
      "__________________________________________________________________________________________________\n",
      "dot_31 (Dot)                    (None, 1)            0           activation_32[0][0]              \n",
      "                                                                 activation_33[0][0]              \n",
      "__________________________________________________________________________________________________\n",
      "concatenate_30 (Concatenate)    (None, 64)           0           dot_31[0][0]                     \n",
      "                                                                 dense_141[0][0]                  \n",
      "__________________________________________________________________________________________________\n",
      "concatenate_31 (Concatenate)    (None, 64)           0           dot_31[0][0]                     \n",
      "                                                                 dense_142[0][0]                  \n",
      "__________________________________________________________________________________________________\n",
      "activation_34 (Activation)      (None, 64)           0           concatenate_30[0][0]             \n",
      "__________________________________________________________________________________________________\n",
      "activation_35 (Activation)      (None, 64)           0           concatenate_31[0][0]             \n",
      "__________________________________________________________________________________________________\n",
      "dot_32 (Dot)                    (None, 1)            0           activation_34[0][0]              \n",
      "                                                                 activation_35[0][0]              \n",
      "__________________________________________________________________________________________________\n",
      "concatenate_32 (Concatenate)    (None, 64)           0           dot_32[0][0]                     \n",
      "                                                                 dense_141[0][0]                  \n",
      "__________________________________________________________________________________________________\n",
      "concatenate_33 (Concatenate)    (None, 64)           0           dot_32[0][0]                     \n",
      "                                                                 dense_142[0][0]                  \n",
      "__________________________________________________________________________________________________\n",
      "activation_36 (Activation)      (None, 64)           0           concatenate_32[0][0]             \n",
      "__________________________________________________________________________________________________\n",
      "activation_37 (Activation)      (None, 64)           0           concatenate_33[0][0]             \n",
      "__________________________________________________________________________________________________\n",
      "dot_33 (Dot)                    (None, 1)            0           activation_36[0][0]              \n",
      "                                                                 activation_37[0][0]              \n",
      "__________________________________________________________________________________________________\n",
      "concatenate_34 (Concatenate)    (None, 11)           0           dot_33[0][0]                     \n",
      "                                                                 input_91[0][0]                   \n",
      "__________________________________________________________________________________________________\n",
      "activation_38 (Activation)      (None, 11)           0           concatenate_34[0][0]             \n",
      "__________________________________________________________________________________________________\n",
      "dense_143 (Dense)               (None, 128)          1536        activation_38[0][0]              \n",
      "__________________________________________________________________________________________________\n",
      "dropout_86 (Dropout)            (None, 128)          0           dense_143[0][0]                  \n",
      "__________________________________________________________________________________________________\n",
      "dense_144 (Dense)               (None, 2)            258         dropout_86[0][0]                 \n",
      "==================================================================================================\n",
      "Total params: 1,644,662\n",
      "Trainable params: 1,644,662\n",
      "Non-trainable params: 0\n",
      "__________________________________________________________________________________________________\n"
     ]
    }
   ],
   "source": [
    "model.summary()"
   ]
  },
  {
   "cell_type": "code",
   "execution_count": 259,
   "metadata": {},
   "outputs": [
    {
     "name": "stdout",
     "output_type": "stream",
     "text": [
      "Train on 680 samples, validate on 120 samples\n",
      "Epoch 1/10\n",
      "680/680 [==============================] - 164s 241ms/step - loss: 0.9361 - acc: 0.6471 - val_loss: 0.7670 - val_acc: 0.7167\n",
      "\n",
      "Epoch 00001: val_acc improved from -inf to 0.71667, saving model to weights-bin-01-0.72.hdf5\n",
      "Epoch 2/10\n",
      "680/680 [==============================] - 31s 46ms/step - loss: 0.6419 - acc: 0.7118 - val_loss: 0.5835 - val_acc: 0.7167\n",
      "\n",
      "Epoch 00002: val_acc did not improve\n",
      "Epoch 3/10\n",
      "680/680 [==============================] - 31s 45ms/step - loss: 0.5948 - acc: 0.7324 - val_loss: 0.4912 - val_acc: 0.7833\n",
      "\n",
      "Epoch 00003: val_acc improved from 0.71667 to 0.78333, saving model to weights-bin-03-0.78.hdf5\n",
      "Epoch 4/10\n",
      "680/680 [==============================] - 31s 46ms/step - loss: 0.5324 - acc: 0.7412 - val_loss: 0.4777 - val_acc: 0.7750\n",
      "\n",
      "Epoch 00004: val_acc did not improve\n",
      "Epoch 5/10\n",
      "680/680 [==============================] - 33s 48ms/step - loss: 0.5193 - acc: 0.7588 - val_loss: 0.4582 - val_acc: 0.7833\n",
      "\n",
      "Epoch 00005: val_acc improved from 0.78333 to 0.78333, saving model to weights-bin-05-0.78.hdf5\n",
      "Epoch 6/10\n",
      "680/680 [==============================] - 32s 47ms/step - loss: 0.4849 - acc: 0.7765 - val_loss: 0.4507 - val_acc: 0.8000\n",
      "\n",
      "Epoch 00006: val_acc improved from 0.78333 to 0.80000, saving model to weights-bin-06-0.80.hdf5\n",
      "Epoch 7/10\n",
      "680/680 [==============================] - 32s 47ms/step - loss: 0.4870 - acc: 0.7662 - val_loss: 0.4626 - val_acc: 0.7917\n",
      "\n",
      "Epoch 00007: val_acc did not improve\n",
      "Epoch 8/10\n",
      "680/680 [==============================] - 31s 45ms/step - loss: 0.4799 - acc: 0.7691 - val_loss: 0.4476 - val_acc: 0.8000\n",
      "\n",
      "Epoch 00008: val_acc improved from 0.80000 to 0.80000, saving model to weights-bin-08-0.80.hdf5\n",
      "Epoch 9/10\n",
      "680/680 [==============================] - 31s 45ms/step - loss: 0.4596 - acc: 0.7956 - val_loss: 0.4362 - val_acc: 0.8083\n",
      "\n",
      "Epoch 00009: val_acc improved from 0.80000 to 0.80833, saving model to weights-bin-09-0.81.hdf5\n",
      "Epoch 10/10\n",
      "680/680 [==============================] - 31s 45ms/step - loss: 0.4506 - acc: 0.7853 - val_loss: 0.4325 - val_acc: 0.8083\n",
      "\n",
      "Epoch 00010: val_acc did not improve\n"
     ]
    },
    {
     "data": {
      "text/plain": [
       "<keras.callbacks.History at 0xa60d7aac18>"
      ]
     },
     "execution_count": 259,
     "metadata": {},
     "output_type": "execute_result"
    }
   ],
   "source": [
    "model.fit([Xs_train_rs, Xf_train], y_train, epochs = 10, batch_size = 64, validation_split=0.15,\n",
    "        callbacks=callbacks_list)"
   ]
  },
  {
   "cell_type": "code",
   "execution_count": 254,
   "metadata": {},
   "outputs": [
    {
     "name": "stdout",
     "output_type": "stream",
     "text": [
      "200/200 [==============================] - 3s 16ms/step\n"
     ]
    },
    {
     "data": {
      "text/plain": [
       "[0.5074881625175476, 0.765]"
      ]
     },
     "execution_count": 254,
     "metadata": {},
     "output_type": "execute_result"
    }
   ],
   "source": [
    "model.evaluate([Xs_test_rs, Xf_test], y_test)"
   ]
  },
  {
   "cell_type": "code",
   "execution_count": 69,
   "metadata": {},
   "outputs": [
    {
     "name": "stdout",
     "output_type": "stream",
     "text": [
      "StratifiedShuffleSplit(n_splits=1, random_state=0, test_size=0.2,\n",
      "            train_size=None)\n",
      "TRAIN: [375  26 805 315  83 792 933 815 146 160 111  36 921 877 868 980  61 134\n",
      " 290 685 466 580  54 234 669 534 287 343 609 678 572 751 941 926 827 666\n",
      " 112 922  90 228 204 984 548 180 377 885 517 785 477 699 979 312 208 734\n",
      " 615 549  20 222 632  78 347 703 689 634 216 318 391  56 130   6 392  12\n",
      " 700 492 110 260 895 226 719  63 411 354 942 248 352 891 302 168 201 578\n",
      "  43 137 702 543 722 992 720 937 298   2 323 686 874 938 221 782  86 853\n",
      " 566 796 574 581 894  93 738 712 637 971 335 658 817 807  66 219 623 394\n",
      " 821 966 636  64 625 890 872 342  95 970 319 557 357 948  45  46 949 756\n",
      " 537 388 870 173 523 346 480 626 811 119 278 125 642  49 472 524 217 416\n",
      " 136 187 698  76  37 705  77 631   4  22 607 708 494 109 822 479 944 166\n",
      " 491 189  62 696 856 393 736 245 129 622 246 945 458 229 428 505  85 659\n",
      " 206 317 171 292 605 272 906 850 270 687 619 321 563 257  41 397  50 641\n",
      " 586 859 682 365 419 158  69 448 706 613 286 435 275 266 957 144 665 651\n",
      " 995 730 431 814 677 415 102 502 451 527 196 398 829 240 657 176 503 329\n",
      " 759  30 912 400 624 149 188 255 839  82 690 542 582 567 495 470 366 367\n",
      "   8 819 813 692 584 532  52  80 869 956 485 882 249 395 233 747 668 283\n",
      " 218  98 739 958 104 795 230 299 753 412 493 459 864 920 592 475 947 138\n",
      " 506 344 284 653 667 190 250 670 974 691 540 182  48 289 750 594 156 899\n",
      " 379 781 565 711  67 486 973 426 786 427  18 840 262 100 126 148 710 589\n",
      " 162 404  19 424 775 998 425 399 862 247 959 489 300  24 267 422 101 223\n",
      " 124 787 824 167 324 363 396 704 547 886 570 791 902 778 288 227 175 911\n",
      " 355 231 755 735 913  84 583 558 950 798 456 826 978 432  92 351 546 858\n",
      " 880 507 621 888 170 723 450 306 220 717 893 552 645 694 205 145 554 209\n",
      "  75 561 740  10 674 867 181 116 457 153 611  74 961 449 536 963 977 210\n",
      " 600 776 587 462  57 316 972 530 533 526 279 559 261 618 939 599 478 150\n",
      " 108 946 884 784 369 538 273  35 333  68  91 539 960  96 646 469  29 509\n",
      " 378 544 799 106 982 748 483 879 499 771 446 454 291 235 910 989 213 643\n",
      " 617 924 875 733 904 473 731 487 103 569 179   7 660 746 608 359 823 113\n",
      " 520 510 693 281 512 368 452 604 774 761  14 332 143 620 430 765 135 983\n",
      " 900 737 484 883 701 264 986 382 999 562 863 656 301  81 873 340 122 293\n",
      " 413 334 252 326 518 417 836 993  58 429 828 172 282 461 445  51 337  97\n",
      " 962 118 684 597 237  59 371 940 603 389 732 794 745 865 831 591 107 627\n",
      " 892 721 521 927 841 184 121  55  73  11 224 372 239 307 671 990 834  94\n",
      " 855 385  15 871 976 876 338 481 199   5   3  60 560 943 575 571 141 779\n",
      " 903 390 238 789 630 327 420 788 842 997 406 598 579 131 155 967 376 585\n",
      " 762 996 806 898 802 336 749 909 504 508 198 896 123 215 917 955 808 849\n",
      " 154 358 117 602 159 662 436 271 846 810 139 769 968 672 716 767 241  71\n",
      " 314 296 381 766 825 374 843 350 142 330 403 588 453 460 681 516 881 405\n",
      " 496 236 161 783 606 268 907 442 654 269  44 331  27 845 490 408 522 758\n",
      " 919  47 409 596 256 200 628 640 311 816 474 932 373 362 729 897 140 650\n",
      "  16  13 191 555 433 644 931 727 556 349 833  40 860 878  21 801 214 601\n",
      "  89 531 212 207 303 743 848 763 476   0 635 498 157 612 297 590 724 348\n",
      " 852 573 440 777 838 964 455 866 361 513 192 525 464 804 987 488 800 482\n",
      " 930 925 225 280 664 638 744 985 387 535 969 680 194 545 309  33 935 325\n",
      " 152  23 728 178 713 308 726 254] TEST: [463 568 832  88 410 908 741 809 688 576 251 648 901 529 844 174 263 341\n",
      " 988 854 133  28 754 242 345 715 468 981 629  17  34 695 663 186 132 649\n",
      " 128 773 151 265  72 975 465 447 812 147 752  70 439 414 857 847 994 441\n",
      " 714 914 356 305  53 501 707  31 183 953 438 195 232 511 923 383 259 127\n",
      " 679 360 676 764 418 320 661 793 193 322 965 929 423 936 918 861  25 954\n",
      " 114 915 471 760 757 951 384 467 709 434 380 675 683 934 553 364  39 742\n",
      " 444 202 211  99 616 851 772 304  87 837 887 401 515 614 120 718 916 519\n",
      " 818 243   1 803 295 991 551  79 370 386  32  42 830 835 197 310 673 780\n",
      " 905 177 577 258 203 655 274  38 407 169 443 514 541 353 164 647 528 952\n",
      "  65 437 339 697 185 797 610 652 639 768 294 928 550 276 500 313 244 497\n",
      " 163 402 889 564   9 165 593 725 105 820 790 253 770 285 421 277 115 328\n",
      " 633 595]\n"
     ]
    }
   ],
   "source": [
    "from sklearn.model_selection import StratifiedShuffleSplit\n",
    "\n",
    "sss = StratifiedShuffleSplit(n_splits=1, test_size=0.2, random_state=0)\n",
    "sss.get_n_splits(fx, y_mc)\n",
    "\n",
    "print(sss)       \n",
    "\n",
    "for train_index, test_index in sss.split(fx, y_mc):\n",
    "    print(\"TRAIN:\", train_index, \"TEST:\", test_index)\n",
    "    Xs_train, Xf_train, Xs_test, Xf_test = x_all[train_index], fx[train_index], x_all[test_index], fx[test_index]\n",
    "    y_train, y_test = y_mc[train_index], y_mc[test_index]"
   ]
  },
  {
   "cell_type": "code",
   "execution_count": 70,
   "metadata": {},
   "outputs": [
    {
     "name": "stdout",
     "output_type": "stream",
     "text": [
      "(200,)\n"
     ]
    },
    {
     "data": {
      "image/png": "[encoded data removed]",
      "text/plain": [
       "<Figure size 432x288 with 1 Axes>"
      ]
     },
     "metadata": {},
     "output_type": "display_data"
    }
   ],
   "source": [
    "print(y_test.shape)\n",
    "plt.hist(y_test)\n",
    "plt.show()"
   ]
  },
  {
   "cell_type": "code",
   "execution_count": 71,
   "metadata": {},
   "outputs": [
    {
     "name": "stdout",
     "output_type": "stream",
     "text": [
      "(800,)\n"
     ]
    },
    {
     "data": {
      "image/png": "[encoded data removed]",
      "text/plain": [
       "<Figure size 432x288 with 1 Axes>"
      ]
     },
     "metadata": {},
     "output_type": "display_data"
    }
   ],
   "source": [
    "print(y_train.shape)\n",
    "plt.hist(y_train)\n",
    "plt.show()"
   ]
  },
  {
   "cell_type": "code",
   "execution_count": 59,
   "metadata": {
    "collapsed": true
   },
   "outputs": [],
   "source": [
    "# multi-class classification accuracy"
   ]
  },
  {
   "cell_type": "code",
   "execution_count": 72,
   "metadata": {
    "collapsed": true
   },
   "outputs": [],
   "source": [
    "# 10 fold CV"
   ]
  },
  {
   "cell_type": "code",
   "execution_count": 81,
   "metadata": {},
   "outputs": [
    {
     "name": "stdout",
     "output_type": "stream",
     "text": [
      "[CV]  ................................................................\n",
      "[CV] ................................................. , total=   0.0s\n",
      "[CV]  ................................................................\n",
      "[CV] ................................................. , total=   0.0s\n",
      "[CV]  ................................................................\n",
      "[CV] ................................................. , total=   0.0s\n",
      "[CV]  ................................................................\n",
      "[CV] ................................................. , total=   0.0s\n",
      "[CV]  ................................................................\n",
      "[CV] ................................................. , total=   0.0s\n",
      "[CV]  ................................................................\n",
      "[CV] ................................................. , total=   0.0s\n",
      "[CV]  ................................................................\n",
      "[CV] ................................................. , total=   0.0s\n",
      "[CV]  ................................................................\n",
      "[CV] ................................................. , total=   0.0s\n",
      "[CV]  ................................................................\n",
      "[CV] ................................................. , total=   0.0s\n",
      "[CV]  ................................................................\n",
      "[CV] ................................................. , total=   0.0s\n",
      "Accuracy:  0.7144670307797957 0.11999450834054173\n"
     ]
    },
    {
     "name": "stderr",
     "output_type": "stream",
     "text": [
      "C:\\Anaconda3\\lib\\site-packages\\sklearn\\model_selection\\_split.py:581: Warning: The least populated class in y has only 8 members, which is too few. The minimum number of groups for any class cannot be less than n_splits=10.\n",
      "  % (min_groups, self.n_splits)), Warning)\n",
      "[Parallel(n_jobs=1)]: Done   1 out of   1 | elapsed:    0.0s remaining:    0.0s\n",
      "[Parallel(n_jobs=1)]: Done  10 out of  10 | elapsed:    0.0s finished\n"
     ]
    }
   ],
   "source": [
    "from sklearn.neighbors import KNeighborsClassifier\n",
    "from sklearn.model_selection import cross_val_score\n",
    "knn = KNeighborsClassifier(n_neighbors=10)\n",
    "\n",
    "scores = cross_val_score(knn, Xf_train, y_train, cv=10, verbose=2)\n",
    "print('Accuracy: ', scores.mean(), scores.std() * 2)"
   ]
  },
  {
   "cell_type": "code",
   "execution_count": 83,
   "metadata": {},
   "outputs": [
    {
     "name": "stderr",
     "output_type": "stream",
     "text": [
      "C:\\Anaconda3\\lib\\site-packages\\sklearn\\model_selection\\_split.py:581: Warning: The least populated class in y has only 8 members, which is too few. The minimum number of groups for any class cannot be less than n_splits=10.\n",
      "  % (min_groups, self.n_splits)), Warning)\n"
     ]
    },
    {
     "name": "stdout",
     "output_type": "stream",
     "text": [
      "[CV]  ................................................................\n",
      "[CV] ................................................. , total=   0.2s\n",
      "[CV]  ................................................................\n"
     ]
    },
    {
     "name": "stderr",
     "output_type": "stream",
     "text": [
      "[Parallel(n_jobs=1)]: Done   1 out of   1 | elapsed:    0.2s remaining:    0.0s\n"
     ]
    },
    {
     "name": "stdout",
     "output_type": "stream",
     "text": [
      "[CV] ................................................. , total=   0.1s\n",
      "[CV]  ................................................................\n",
      "[CV] ................................................. , total=   0.1s\n",
      "[CV]  ................................................................\n",
      "[CV] ................................................. , total=   0.3s\n",
      "[CV]  ................................................................\n",
      "[CV] ................................................. , total=   0.3s\n",
      "[CV]  ................................................................\n",
      "[CV] ................................................. , total=   0.1s\n",
      "[CV]  ................................................................\n",
      "[CV] ................................................. , total=   0.2s\n",
      "[CV]  ................................................................\n",
      "[CV] ................................................. , total=   0.2s\n",
      "[CV]  ................................................................\n",
      "[CV] ................................................. , total=   0.1s\n",
      "[CV]  ................................................................\n",
      "[CV] ................................................. , total=   0.1s\n",
      "Accuracy:  0.7946277865014963 0.13176814527198427\n"
     ]
    },
    {
     "name": "stderr",
     "output_type": "stream",
     "text": [
      "[Parallel(n_jobs=1)]: Done  10 out of  10 | elapsed:    2.7s finished\n"
     ]
    }
   ],
   "source": [
    "from sklearn.ensemble import RandomForestClassifier\n",
    "clfrf = RandomForestClassifier(n_estimators=70, max_depth=None,\n",
    "    min_samples_split=4, random_state=0)\n",
    "\n",
    "scores = cross_val_score(clfrf, Xf_train, y_train, cv=10, verbose=2)\n",
    "print('Accuracy: ', scores.mean(), scores.std() * 2)"
   ]
  },
  {
   "cell_type": "code",
   "execution_count": 84,
   "metadata": {},
   "outputs": [
    {
     "name": "stderr",
     "output_type": "stream",
     "text": [
      "C:\\Anaconda3\\lib\\site-packages\\sklearn\\model_selection\\_split.py:581: Warning: The least populated class in y has only 8 members, which is too few. The minimum number of groups for any class cannot be less than n_splits=10.\n",
      "  % (min_groups, self.n_splits)), Warning)\n",
      "C:\\Anaconda3\\lib\\site-packages\\sklearn\\discriminant_analysis.py:455: UserWarning: The priors do not sum to 1. Renormalizing\n",
      "  UserWarning)\n",
      "C:\\Anaconda3\\lib\\site-packages\\sklearn\\discriminant_analysis.py:387: UserWarning: Variables are collinear.\n",
      "  warnings.warn(\"Variables are collinear.\")\n",
      "[Parallel(n_jobs=1)]: Done   1 out of   1 | elapsed:    0.0s remaining:    0.0s\n",
      "C:\\Anaconda3\\lib\\site-packages\\sklearn\\discriminant_analysis.py:455: UserWarning: The priors do not sum to 1. Renormalizing\n",
      "  UserWarning)\n",
      "C:\\Anaconda3\\lib\\site-packages\\sklearn\\discriminant_analysis.py:387: UserWarning: Variables are collinear.\n",
      "  warnings.warn(\"Variables are collinear.\")\n",
      "C:\\Anaconda3\\lib\\site-packages\\sklearn\\discriminant_analysis.py:455: UserWarning: The priors do not sum to 1. Renormalizing\n",
      "  UserWarning)\n",
      "C:\\Anaconda3\\lib\\site-packages\\sklearn\\discriminant_analysis.py:387: UserWarning: Variables are collinear.\n",
      "  warnings.warn(\"Variables are collinear.\")\n",
      "C:\\Anaconda3\\lib\\site-packages\\sklearn\\discriminant_analysis.py:455: UserWarning: The priors do not sum to 1. Renormalizing\n",
      "  UserWarning)\n",
      "C:\\Anaconda3\\lib\\site-packages\\sklearn\\discriminant_analysis.py:387: UserWarning: Variables are collinear.\n",
      "  warnings.warn(\"Variables are collinear.\")\n",
      "C:\\Anaconda3\\lib\\site-packages\\sklearn\\discriminant_analysis.py:455: UserWarning: The priors do not sum to 1. Renormalizing\n",
      "  UserWarning)\n",
      "C:\\Anaconda3\\lib\\site-packages\\sklearn\\discriminant_analysis.py:387: UserWarning: Variables are collinear.\n",
      "  warnings.warn(\"Variables are collinear.\")\n",
      "C:\\Anaconda3\\lib\\site-packages\\sklearn\\discriminant_analysis.py:455: UserWarning: The priors do not sum to 1. Renormalizing\n",
      "  UserWarning)\n",
      "C:\\Anaconda3\\lib\\site-packages\\sklearn\\discriminant_analysis.py:387: UserWarning: Variables are collinear.\n",
      "  warnings.warn(\"Variables are collinear.\")\n",
      "C:\\Anaconda3\\lib\\site-packages\\sklearn\\discriminant_analysis.py:387: UserWarning: Variables are collinear.\n",
      "  warnings.warn(\"Variables are collinear.\")\n",
      "C:\\Anaconda3\\lib\\site-packages\\sklearn\\discriminant_analysis.py:455: UserWarning: The priors do not sum to 1. Renormalizing\n",
      "  UserWarning)\n",
      "C:\\Anaconda3\\lib\\site-packages\\sklearn\\discriminant_analysis.py:387: UserWarning: Variables are collinear.\n",
      "  warnings.warn(\"Variables are collinear.\")\n"
     ]
    },
    {
     "name": "stdout",
     "output_type": "stream",
     "text": [
      "[CV]  ................................................................\n",
      "[CV] ................................................. , total=   0.0s\n",
      "[CV]  ................................................................\n",
      "[CV] ................................................. , total=   0.0s\n",
      "[CV]  ................................................................\n",
      "[CV] ................................................. , total=   0.0s\n",
      "[CV]  ................................................................\n",
      "[CV] ................................................. , total=   0.0s\n",
      "[CV]  ................................................................\n",
      "[CV] ................................................. , total=   0.0s\n",
      "[CV]  ................................................................\n",
      "[CV] ................................................. , total=   0.0s\n",
      "[CV]  ................................................................\n",
      "[CV] ................................................. , total=   0.0s\n",
      "[CV]  ................................................................\n",
      "[CV] ................................................. , total=   0.0s\n",
      "[CV]  ................................................................\n",
      "[CV] ................................................. , total=   0.0s\n",
      "[CV]  ................................................................\n",
      "[CV] ................................................. , total=   0.0s\n",
      "Accuracy:  0.545608234194546 0.09760817265172402\n"
     ]
    },
    {
     "name": "stderr",
     "output_type": "stream",
     "text": [
      "C:\\Anaconda3\\lib\\site-packages\\sklearn\\discriminant_analysis.py:455: UserWarning: The priors do not sum to 1. Renormalizing\n",
      "  UserWarning)\n",
      "C:\\Anaconda3\\lib\\site-packages\\sklearn\\discriminant_analysis.py:387: UserWarning: Variables are collinear.\n",
      "  warnings.warn(\"Variables are collinear.\")\n",
      "C:\\Anaconda3\\lib\\site-packages\\sklearn\\discriminant_analysis.py:387: UserWarning: Variables are collinear.\n",
      "  warnings.warn(\"Variables are collinear.\")\n",
      "[Parallel(n_jobs=1)]: Done  10 out of  10 | elapsed:    0.1s finished\n"
     ]
    }
   ],
   "source": [
    "from sklearn.discriminant_analysis import LinearDiscriminantAnalysis\n",
    "clflda = LinearDiscriminantAnalysis()\n",
    "\n",
    "scores = cross_val_score(clflda, Xf_train, y_train, cv=10, verbose=2)\n",
    "print('Accuracy: ', scores.mean(), scores.std() * 2)"
   ]
  },
  {
   "cell_type": "code",
   "execution_count": 87,
   "metadata": {},
   "outputs": [
    {
     "name": "stderr",
     "output_type": "stream",
     "text": [
      "C:\\Anaconda3\\lib\\site-packages\\sklearn\\model_selection\\_split.py:581: Warning: The least populated class in y has only 8 members, which is too few. The minimum number of groups for any class cannot be less than n_splits=10.\n",
      "  % (min_groups, self.n_splits)), Warning)\n",
      "[Parallel(n_jobs=1)]: Done   1 out of   1 | elapsed:    0.0s remaining:    0.0s\n"
     ]
    },
    {
     "name": "stdout",
     "output_type": "stream",
     "text": [
      "[CV]  ................................................................\n",
      "[CV] ................................................. , total=   0.0s\n",
      "[CV]  ................................................................\n",
      "[CV] ................................................. , total=   0.0s\n",
      "[CV]  ................................................................\n",
      "[CV] ................................................. , total=   0.0s\n",
      "[CV]  ................................................................\n",
      "[CV] ................................................. , total=   0.0s\n",
      "[CV]  ................................................................\n",
      "[CV] ................................................. , total=   0.0s\n",
      "[CV]  ................................................................\n",
      "[CV] ................................................. , total=   0.0s\n",
      "[CV]  ................................................................\n",
      "[CV] ................................................. , total=   0.0s\n",
      "[CV]  ................................................................\n",
      "[CV] ................................................. , total=   0.0s\n",
      "[CV]  ................................................................\n",
      "[CV] ................................................. , total=   0.0s\n",
      "[CV]  ................................................................\n",
      "[CV] ................................................. , total=   0.0s\n",
      "Accuracy:  0.8117024038164317 0.07598211313762084\n"
     ]
    },
    {
     "name": "stderr",
     "output_type": "stream",
     "text": [
      "[Parallel(n_jobs=1)]: Done  10 out of  10 | elapsed:    0.4s finished\n"
     ]
    }
   ],
   "source": [
    "from sklearn import svm\n",
    "\n",
    "clfsvm = svm.SVC(gamma=0.1, C = 10, decision_function_shape='ovo')\n",
    "scores = cross_val_score(clfsvm, Xf_train, y_train, cv=10, verbose=2)\n",
    "print('Accuracy: ', scores.mean(), scores.std() * 2)"
   ]
  },
  {
   "cell_type": "code",
   "execution_count": 88,
   "metadata": {
    "collapsed": true
   },
   "outputs": [],
   "source": [
    "# test accuracy for multi-class classification"
   ]
  },
  {
   "cell_type": "code",
   "execution_count": 100,
   "metadata": {},
   "outputs": [
    {
     "name": "stdout",
     "output_type": "stream",
     "text": [
      "acc:  0.775\n",
      "f1:  0.6296000613801583\n",
      "precision:  0.7075164083228599\n",
      "recall:  0.6093362777573303\n"
     ]
    },
    {
     "name": "stderr",
     "output_type": "stream",
     "text": [
      "C:\\Anaconda3\\lib\\site-packages\\sklearn\\metrics\\classification.py:1113: UndefinedMetricWarning: F-score is ill-defined and being set to 0.0 in labels with no predicted samples.\n",
      "  'precision', 'predicted', average, warn_for)\n",
      "C:\\Anaconda3\\lib\\site-packages\\sklearn\\metrics\\classification.py:1113: UndefinedMetricWarning: Precision is ill-defined and being set to 0.0 in labels with no predicted samples.\n",
      "  'precision', 'predicted', average, warn_for)\n"
     ]
    }
   ],
   "source": [
    "knn.fit(Xf_train, y_train)\n",
    "y_p = knn.predict(Xf_test)\n",
    "print('acc: ', accuracy_score(y_test, y_p))\n",
    "print('f1: ', f1_score(y_test, y_p, average='macro'))\n",
    "print('precision: ', precision_score(y_test, y_p, average='macro'))\n",
    "print('recall: ', recall_score(y_test, y_p, average='macro'))"
   ]
  },
  {
   "cell_type": "code",
   "execution_count": 101,
   "metadata": {},
   "outputs": [
    {
     "name": "stdout",
     "output_type": "stream",
     "text": [
      "acc:  0.835\n",
      "f1:  0.7237770342462201\n",
      "precision:  0.8032846698822534\n",
      "recall:  0.6885414035568834\n"
     ]
    },
    {
     "name": "stderr",
     "output_type": "stream",
     "text": [
      "C:\\Anaconda3\\lib\\site-packages\\sklearn\\metrics\\classification.py:1113: UndefinedMetricWarning: F-score is ill-defined and being set to 0.0 in labels with no predicted samples.\n",
      "  'precision', 'predicted', average, warn_for)\n",
      "C:\\Anaconda3\\lib\\site-packages\\sklearn\\metrics\\classification.py:1113: UndefinedMetricWarning: Precision is ill-defined and being set to 0.0 in labels with no predicted samples.\n",
      "  'precision', 'predicted', average, warn_for)\n"
     ]
    }
   ],
   "source": [
    "clfrf.fit(Xf_train, y_train)\n",
    "y_p = clfrf.predict(Xf_test)\n",
    "print('acc: ', accuracy_score(y_test, y_p))\n",
    "print('f1: ', f1_score(y_test, y_p, average='macro'))\n",
    "print('precision: ', precision_score(y_test, y_p, average='macro'))\n",
    "print('recall: ', recall_score(y_test, y_p, average='macro'))"
   ]
  },
  {
   "cell_type": "code",
   "execution_count": 102,
   "metadata": {},
   "outputs": [
    {
     "name": "stdout",
     "output_type": "stream",
     "text": [
      "acc:  0.605\n",
      "f1:  0.5163650457972556\n",
      "precision:  0.5817670528869883\n",
      "recall:  0.5340180001170713\n"
     ]
    },
    {
     "name": "stderr",
     "output_type": "stream",
     "text": [
      "C:\\Anaconda3\\lib\\site-packages\\sklearn\\discriminant_analysis.py:387: UserWarning: Variables are collinear.\n",
      "  warnings.warn(\"Variables are collinear.\")\n",
      "C:\\Anaconda3\\lib\\site-packages\\sklearn\\metrics\\classification.py:1113: UndefinedMetricWarning: F-score is ill-defined and being set to 0.0 in labels with no predicted samples.\n",
      "  'precision', 'predicted', average, warn_for)\n",
      "C:\\Anaconda3\\lib\\site-packages\\sklearn\\metrics\\classification.py:1113: UndefinedMetricWarning: Precision is ill-defined and being set to 0.0 in labels with no predicted samples.\n",
      "  'precision', 'predicted', average, warn_for)\n"
     ]
    }
   ],
   "source": [
    "clflda.fit(Xf_train, y_train)\n",
    "y_p = clflda.predict(Xf_test)\n",
    "print('acc: ', accuracy_score(y_test, y_p))\n",
    "print('f1: ', f1_score(y_test, y_p, average='macro'))\n",
    "print('precision: ', precision_score(y_test, y_p, average='macro'))\n",
    "print('recall: ', recall_score(y_test, y_p, average='macro'))"
   ]
  },
  {
   "cell_type": "code",
   "execution_count": 103,
   "metadata": {},
   "outputs": [
    {
     "name": "stdout",
     "output_type": "stream",
     "text": [
      "acc:  0.84\n",
      "f1:  0.7763158831566424\n",
      "precision:  0.8510032451208922\n",
      "recall:  0.7463329412245822\n"
     ]
    },
    {
     "name": "stderr",
     "output_type": "stream",
     "text": [
      "C:\\Anaconda3\\lib\\site-packages\\sklearn\\metrics\\classification.py:1113: UndefinedMetricWarning: F-score is ill-defined and being set to 0.0 in labels with no predicted samples.\n",
      "  'precision', 'predicted', average, warn_for)\n",
      "C:\\Anaconda3\\lib\\site-packages\\sklearn\\metrics\\classification.py:1113: UndefinedMetricWarning: Precision is ill-defined and being set to 0.0 in labels with no predicted samples.\n",
      "  'precision', 'predicted', average, warn_for)\n"
     ]
    }
   ],
   "source": [
    "clfsvm.fit(Xf_train, y_train)\n",
    "y_p = clfsvm.predict(Xf_test)\n",
    "print('acc: ', accuracy_score(y_test, y_p))\n",
    "print('f1: ', f1_score(y_test, y_p, average='macro'))\n",
    "print('precision: ', precision_score(y_test, y_p, average='macro'))\n",
    "print('recall: ', recall_score(y_test, y_p, average='macro'))"
   ]
  },
  {
   "cell_type": "code",
   "execution_count": null,
   "metadata": {
    "collapsed": true
   },
   "outputs": [],
   "source": []
  },
  {
   "cell_type": "code",
   "execution_count": null,
   "metadata": {
    "collapsed": true
   },
   "outputs": [],
   "source": []
  },
  {
   "cell_type": "code",
   "execution_count": null,
   "metadata": {
    "collapsed": true
   },
   "outputs": [],
   "source": []
  },
  {
   "cell_type": "code",
   "execution_count": null,
   "metadata": {
    "collapsed": true
   },
   "outputs": [],
   "source": []
  },
  {
   "cell_type": "code",
   "execution_count": null,
   "metadata": {
    "collapsed": true
   },
   "outputs": [],
   "source": []
  },
  {
   "cell_type": "code",
   "execution_count": null,
   "metadata": {
    "collapsed": true
   },
   "outputs": [],
   "source": []
  },
  {
   "cell_type": "code",
   "execution_count": null,
   "metadata": {
    "collapsed": true
   },
   "outputs": [],
   "source": []
  },
  {
   "cell_type": "code",
   "execution_count": 43,
   "metadata": {},
   "outputs": [
    {
     "name": "stdout",
     "output_type": "stream",
     "text": [
      "Automatically created module for IPython interactive environment\n",
      "Computing random projection\n",
      "Computing PCA projection\n",
      "Computing Linear Discriminant Analysis projection\n",
      "Computing Isomap embedding\n",
      "Done.\n",
      "Computing LLE embedding\n",
      "Done. Reconstruction error: 2.92548e-07\n",
      "Computing modified LLE embedding\n",
      "Done. Reconstruction error: 0.663335\n",
      "Computing MDS embedding\n",
      "Done. Stress: 641389.475580\n",
      "Computing Totally Random Trees embedding\n",
      "Computing Spectral embedding\n"
     ]
    },
    {
     "name": "stderr",
     "output_type": "stream",
     "text": [
      "C:\\Anaconda3\\lib\\site-packages\\sklearn\\utils\\graph.py:115: FutureWarning: Conversion of the second argument of issubdtype from `int` to `np.signedinteger` is deprecated. In future, it will be treated as `np.int32 == np.dtype(int).type`.\n",
      "  if normed and (np.issubdtype(csgraph.dtype, np.int)\n"
     ]
    },
    {
     "name": "stdout",
     "output_type": "stream",
     "text": [
      "Computing t-SNE embedding\n"
     ]
    },
    {
     "data": {
      "image/png": "[encoded data removed]",
      "text/plain": [
       "<Figure size 432x288 with 1 Axes>"
      ]
     },
     "metadata": {},
     "output_type": "display_data"
    },
    {
     "data": {
      "image/png": "[encoded data removed]",
      "text/plain": [
       "<Figure size 432x288 with 1 Axes>"
      ]
     },
     "metadata": {},
     "output_type": "display_data"
    },
    {
     "data": {
      "image/png": "[encoded data removed]",
      "text/plain": [
       "<Figure size 432x288 with 1 Axes>"
      ]
     },
     "metadata": {},
     "output_type": "display_data"
    },
    {
     "data": {
      "image/png": "[encoded data removed]",
      "text/plain": [
       "<Figure size 432x288 with 1 Axes>"
      ]
     },
     "metadata": {},
     "output_type": "display_data"
    },
    {
     "data": {
      "image/png": "[encoded data removed]",
      "text/plain": [
       "<Figure size 432x288 with 1 Axes>"
      ]
     },
     "metadata": {},
     "output_type": "display_data"
    },
    {
     "data": {
      "image/png": "[encoded data removed]",
      "text/plain": [
       "<Figure size 432x288 with 1 Axes>"
      ]
     },
     "metadata": {},
     "output_type": "display_data"
    },
    {
     "data": {
      "image/png": "[encoded data removed]",
      "text/plain": [
       "<Figure size 432x288 with 1 Axes>"
      ]
     },
     "metadata": {},
     "output_type": "display_data"
    },
    {
     "data": {
      "image/png": "[encoded data removed]",
      "text/plain": [
       "<Figure size 432x288 with 1 Axes>"
      ]
     },
     "metadata": {},
     "output_type": "display_data"
    },
    {
     "data": {
      "image/png": "[encoded data removed]",
      "text/plain": [
       "<Figure size 432x288 with 1 Axes>"
      ]
     },
     "metadata": {},
     "output_type": "display_data"
    },
    {
     "data": {
      "image/png": "[encoded data removed]",
      "text/plain": [
       "<Figure size 432x288 with 1 Axes>"
      ]
     },
     "metadata": {},
     "output_type": "display_data"
    },
    {
     "data": {
      "image/png": "[encoded data removed]",
      "text/plain": [
       "<Figure size 432x288 with 1 Axes>"
      ]
     },
     "metadata": {},
     "output_type": "display_data"
    }
   ],
   "source": [
    "# Authors: Fabian Pedregosa <fabian.pedregosa@inria.fr>\n",
    "#          Olivier Grisel <olivier.grisel@ensta.org>\n",
    "#          Mathieu Blondel <mathieu@mblondel.org>\n",
    "#          Gael Varoquaux\n",
    "# License: BSD 3 clause (C) INRIA 2011\n",
    "\n",
    "print(__doc__)\n",
    "from time import time\n",
    "\n",
    "import numpy as np\n",
    "import matplotlib.pyplot as plt\n",
    "from matplotlib import offsetbox\n",
    "from sklearn import (manifold, datasets, decomposition, ensemble,\n",
    "                     discriminant_analysis, random_projection)\n",
    "\n",
    "digits = datasets.load_digits(n_class=6)\n",
    "X = fx # digits.data\n",
    "y = y_mc # digits.target\n",
    "n_samples, n_features = X.shape\n",
    "n_neighbors = 30\n",
    "\n",
    "\n",
    "#----------------------------------------------------------------------\n",
    "# Scale and visualize the embedding vectors\n",
    "def plot_embedding(X, title=None):\n",
    "    x_min, x_max = np.min(X), np.max(X)\n",
    "    X = (X - x_min) / (x_max - x_min)\n",
    "\n",
    "    plt.figure()\n",
    "    ax = plt.subplot(111)\n",
    "    for i in range(X.shape[0]):\n",
    "        plt.text(X[i, 0], X[i, 1], str(y[i]),\n",
    "                 color=plt.cm.Set1(y[i] / 10.) ,\n",
    "                 fontdict={'weight': 'bold', 'size': 4})\n",
    "\n",
    "    if False and hasattr(offsetbox, 'AnnotationBbox'):\n",
    "        # only print thumbnails with matplotlib > 1.0\n",
    "        shown_images = np.array([[1., 1.]])  # just something big\n",
    "        for i in range(X.shape[0]):\n",
    "            dist = np.sum((X[i] - shown_images) ** 2, 1)\n",
    "            if np.min(dist) < 4e-3:\n",
    "                # don't show points that are too close\n",
    "                continue\n",
    "            shown_images = np.r_[shown_images, [X[i]]]\n",
    "            imagebox = offsetbox.AnnotationBbox(\n",
    "                offsetbox.OffsetImage(digits.images[i], cmap=plt.cm.gray_r),\n",
    "                X[i])\n",
    "            #ax.add_artist(imagebox)\n",
    "    plt.xticks([]), plt.yticks([])\n",
    "    if title is not None:\n",
    "        plt.title(title)\n",
    "\n",
    "\n",
    "#----------------------------------------------------------------------\n",
    "# Plot images of the digits\n",
    "\n",
    "\n",
    "\n",
    "#----------------------------------------------------------------------\n",
    "# Random 2D projection using a random unitary matrix\n",
    "print(\"Computing random projection\")\n",
    "rp = random_projection.SparseRandomProjection(n_components=2, random_state=42)\n",
    "X_projected = rp.fit_transform(X)\n",
    "plot_embedding(X_projected, \"Random Projection of the digits\")\n",
    "\n",
    "\n",
    "#----------------------------------------------------------------------\n",
    "# Projection on to the first 2 principal components\n",
    "\n",
    "print(\"Computing PCA projection\")\n",
    "t0 = time()\n",
    "X_pca = decomposition.TruncatedSVD(n_components=2).fit_transform(X)\n",
    "plot_embedding(X_pca,\n",
    "               \"Principal Components projection of the digits (time %.2fs)\" %\n",
    "               (time() - t0))\n",
    "\n",
    "#----------------------------------------------------------------------\n",
    "# Projection on to the first 2 linear discriminant components\n",
    "\n",
    "print(\"Computing Linear Discriminant Analysis projection\")\n",
    "X2 = X.copy()\n",
    "X2.flat[::X.shape[1] + 1] += 0.01  # Make X invertible\n",
    "t0 = time()\n",
    "X_lda = discriminant_analysis.LinearDiscriminantAnalysis(n_components=2).fit_transform(X2, y)\n",
    "plot_embedding(X_lda,\n",
    "               \"Linear Discriminant projection of the digits (time %.2fs)\" %\n",
    "               (time() - t0))\n",
    "\n",
    "\n",
    "#----------------------------------------------------------------------\n",
    "# Isomap projection of the digits dataset\n",
    "print(\"Computing Isomap embedding\")\n",
    "t0 = time()\n",
    "X_iso = manifold.Isomap(n_neighbors, n_components=2).fit_transform(X)\n",
    "print(\"Done.\")\n",
    "plot_embedding(X_iso,\n",
    "               \"Isomap projection of the digits (time %.2fs)\" %\n",
    "               (time() - t0))\n",
    "\n",
    "\n",
    "#----------------------------------------------------------------------\n",
    "# Locally linear embedding of the digits dataset\n",
    "print(\"Computing LLE embedding\")\n",
    "clf = manifold.LocallyLinearEmbedding(n_neighbors, n_components=2,\n",
    "                                      method='standard')\n",
    "t0 = time()\n",
    "X_lle = clf.fit_transform(X)\n",
    "print(\"Done. Reconstruction error: %g\" % clf.reconstruction_error_)\n",
    "plot_embedding(X_lle,\n",
    "               \"Locally Linear Embedding of the digits (time %.2fs)\" %\n",
    "               (time() - t0))\n",
    "\n",
    "\n",
    "#----------------------------------------------------------------------\n",
    "# Modified Locally linear embedding of the digits dataset\n",
    "print(\"Computing modified LLE embedding\")\n",
    "clf = manifold.LocallyLinearEmbedding(n_neighbors, n_components=2,\n",
    "                                      method='modified')\n",
    "t0 = time()\n",
    "X_mlle = clf.fit_transform(X)\n",
    "print(\"Done. Reconstruction error: %g\" % clf.reconstruction_error_)\n",
    "plot_embedding(X_mlle,\n",
    "               \"Modified Locally Linear Embedding of the digits (time %.2fs)\" %\n",
    "               (time() - t0))\n",
    "\n",
    "\n",
    "#----------------------------------------------------------------------\n",
    "# HLLE embedding of the digits dataset\n",
    "\n",
    "\n",
    "#----------------------------------------------------------------------\n",
    "# LTSA embedding of the digits dataset\n",
    "\n",
    "#----------------------------------------------------------------------\n",
    "# MDS  embedding of the digits dataset\n",
    "print(\"Computing MDS embedding\")\n",
    "clf = manifold.MDS(n_components=2, n_init=1, max_iter=100)\n",
    "t0 = time()\n",
    "X_mds = clf.fit_transform(X)\n",
    "print(\"Done. Stress: %f\" % clf.stress_)\n",
    "plot_embedding(X_mds,\n",
    "               \"MDS embedding of the digits (time %.2fs)\" %\n",
    "               (time() - t0))\n",
    "\n",
    "#----------------------------------------------------------------------\n",
    "# Random Trees embedding of the digits dataset\n",
    "print(\"Computing Totally Random Trees embedding\")\n",
    "hasher = ensemble.RandomTreesEmbedding(n_estimators=200, random_state=0,\n",
    "                                       max_depth=5)\n",
    "t0 = time()\n",
    "X_transformed = hasher.fit_transform(X)\n",
    "pca = decomposition.TruncatedSVD(n_components=2)\n",
    "X_reduced = pca.fit_transform(X_transformed)\n",
    "\n",
    "plot_embedding(X_reduced,\n",
    "               \"Random forest embedding of the digits (time %.2fs)\" %\n",
    "               (time() - t0))\n",
    "\n",
    "#----------------------------------------------------------------------\n",
    "# Spectral embedding of the digits dataset\n",
    "print(\"Computing Spectral embedding\")\n",
    "embedder = manifold.SpectralEmbedding(n_components=2, random_state=0,\n",
    "                                      eigen_solver=\"arpack\")\n",
    "t0 = time()\n",
    "X_se = embedder.fit_transform(X)\n",
    "\n",
    "plot_embedding(X_se,\n",
    "               \"Spectral embedding of the digits (time %.2fs)\" %\n",
    "               (time() - t0))\n",
    "\n",
    "#----------------------------------------------------------------------\n",
    "# t-SNE embedding of the digits dataset\n",
    "print(\"Computing t-SNE embedding\")\n",
    "tsne = manifold.TSNE(n_components=2, init='pca', random_state=0)\n",
    "t0 = time()\n",
    "X_tsne = tsne.fit_transform(X)\n",
    "\n",
    "plot_embedding(X_tsne,\n",
    "               \"t-SNE embedding of the digits (time %.2fs)\" %\n",
    "               (time() - t0))\n",
    "\n",
    "plt.show()"
   ]
  },
  {
   "cell_type": "code",
   "execution_count": null,
   "metadata": {
    "collapsed": true
   },
   "outputs": [],
   "source": []
  },
  {
   "cell_type": "code",
   "execution_count": 249,
   "metadata": {},
   "outputs": [],
   "source": [
    "# ref:\n",
    "# https://towardsdatascience.com/learning-rate-schedules-and-adaptive-learning-rate-methods-for-deep-learning-2c8f433990d1\n",
    "# scikit-learn"
   ]
  },
  {
   "cell_type": "code",
   "execution_count": null,
   "metadata": {
    "collapsed": true
   },
   "outputs": [],
   "source": []
  }
 ],
 "metadata": {
  "kernelspec": {
   "display_name": "Python 3",
   "language": "python",
   "name": "python3"
  },
  "language_info": {
   "codemirror_mode": {
    "name": "ipython",
    "version": 3
   },
   "file_extension": ".py",
   "mimetype": "text/x-python",
   "name": "python",
   "nbconvert_exporter": "python",
   "pygments_lexer": "ipython3",
   "version": "3.6.1"
  }
 },
 "nbformat": 4,
 "nbformat_minor": 2
}
